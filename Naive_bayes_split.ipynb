{
  "nbformat": 4,
  "nbformat_minor": 0,
  "metadata": {
    "colab": {
      "provenance": []
    },
    "kernelspec": {
      "name": "python3",
      "display_name": "Python 3"
    },
    "language_info": {
      "name": "python"
    }
  },
  "cells": [
    {
      "cell_type": "code",
      "execution_count": 43,
      "metadata": {
        "colab": {
          "base_uri": "https://localhost:8080/"
        },
        "id": "5XqTSABBanPB",
        "outputId": "c8a6fae4-030e-450f-a43e-358509b7c2e7"
      },
      "outputs": [
        {
          "output_type": "stream",
          "name": "stderr",
          "text": [
            "[nltk_data] Downloading package stopwords to /root/nltk_data...\n",
            "[nltk_data]   Package stopwords is already up-to-date!\n"
          ]
        }
      ],
      "source": [
        "import pandas as pd\n",
        "import numpy as np\n",
        "import matplotlib.pyplot as plt\n",
        "import re\n",
        "from nltk.corpus import stopwords\n",
        "from nltk.stem.porter import PorterStemmer\n",
        "from sklearn.metrics import accuracy_score\n",
        "import nltk\n",
        "nltk.download('stopwords')\n",
        "import math\n",
        "from sklearn.model_selection import train_test_split"
      ]
    },
    {
      "cell_type": "code",
      "source": [
        "data=pd.read_csv('/content/spam.csv',encoding=\"ISO-8859-1\")\n",
        "data=pd.DataFrame(data)\n",
        "data.head(5)"
      ],
      "metadata": {
        "colab": {
          "base_uri": "https://localhost:8080/",
          "height": 206
        },
        "id": "o2RhV_Vaaz54",
        "outputId": "6ffdbb20-185d-44a9-9ed9-d7708ef61266"
      },
      "execution_count": 44,
      "outputs": [
        {
          "output_type": "execute_result",
          "data": {
            "text/plain": [
              "     v1                                                 v2 Unnamed: 2  \\\n",
              "0   ham  Go until jurong point, crazy.. Available only ...        NaN   \n",
              "1   ham                      Ok lar... Joking wif u oni...        NaN   \n",
              "2  spam  Free entry in 2 a wkly comp to win FA Cup fina...        NaN   \n",
              "3   ham  U dun say so early hor... U c already then say...        NaN   \n",
              "4   ham  Nah I don't think he goes to usf, he lives aro...        NaN   \n",
              "\n",
              "  Unnamed: 3 Unnamed: 4  \n",
              "0        NaN        NaN  \n",
              "1        NaN        NaN  \n",
              "2        NaN        NaN  \n",
              "3        NaN        NaN  \n",
              "4        NaN        NaN  "
            ],
            "text/html": [
              "\n",
              "\n",
              "  <div id=\"df-10bdcd49-6259-49b1-8f61-3166dbc55a0a\">\n",
              "    <div class=\"colab-df-container\">\n",
              "      <div>\n",
              "<style scoped>\n",
              "    .dataframe tbody tr th:only-of-type {\n",
              "        vertical-align: middle;\n",
              "    }\n",
              "\n",
              "    .dataframe tbody tr th {\n",
              "        vertical-align: top;\n",
              "    }\n",
              "\n",
              "    .dataframe thead th {\n",
              "        text-align: right;\n",
              "    }\n",
              "</style>\n",
              "<table border=\"1\" class=\"dataframe\">\n",
              "  <thead>\n",
              "    <tr style=\"text-align: right;\">\n",
              "      <th></th>\n",
              "      <th>v1</th>\n",
              "      <th>v2</th>\n",
              "      <th>Unnamed: 2</th>\n",
              "      <th>Unnamed: 3</th>\n",
              "      <th>Unnamed: 4</th>\n",
              "    </tr>\n",
              "  </thead>\n",
              "  <tbody>\n",
              "    <tr>\n",
              "      <th>0</th>\n",
              "      <td>ham</td>\n",
              "      <td>Go until jurong point, crazy.. Available only ...</td>\n",
              "      <td>NaN</td>\n",
              "      <td>NaN</td>\n",
              "      <td>NaN</td>\n",
              "    </tr>\n",
              "    <tr>\n",
              "      <th>1</th>\n",
              "      <td>ham</td>\n",
              "      <td>Ok lar... Joking wif u oni...</td>\n",
              "      <td>NaN</td>\n",
              "      <td>NaN</td>\n",
              "      <td>NaN</td>\n",
              "    </tr>\n",
              "    <tr>\n",
              "      <th>2</th>\n",
              "      <td>spam</td>\n",
              "      <td>Free entry in 2 a wkly comp to win FA Cup fina...</td>\n",
              "      <td>NaN</td>\n",
              "      <td>NaN</td>\n",
              "      <td>NaN</td>\n",
              "    </tr>\n",
              "    <tr>\n",
              "      <th>3</th>\n",
              "      <td>ham</td>\n",
              "      <td>U dun say so early hor... U c already then say...</td>\n",
              "      <td>NaN</td>\n",
              "      <td>NaN</td>\n",
              "      <td>NaN</td>\n",
              "    </tr>\n",
              "    <tr>\n",
              "      <th>4</th>\n",
              "      <td>ham</td>\n",
              "      <td>Nah I don't think he goes to usf, he lives aro...</td>\n",
              "      <td>NaN</td>\n",
              "      <td>NaN</td>\n",
              "      <td>NaN</td>\n",
              "    </tr>\n",
              "  </tbody>\n",
              "</table>\n",
              "</div>\n",
              "      <button class=\"colab-df-convert\" onclick=\"convertToInteractive('df-10bdcd49-6259-49b1-8f61-3166dbc55a0a')\"\n",
              "              title=\"Convert this dataframe to an interactive table.\"\n",
              "              style=\"display:none;\">\n",
              "\n",
              "  <svg xmlns=\"http://www.w3.org/2000/svg\" height=\"24px\"viewBox=\"0 0 24 24\"\n",
              "       width=\"24px\">\n",
              "    <path d=\"M0 0h24v24H0V0z\" fill=\"none\"/>\n",
              "    <path d=\"M18.56 5.44l.94 2.06.94-2.06 2.06-.94-2.06-.94-.94-2.06-.94 2.06-2.06.94zm-11 1L8.5 8.5l.94-2.06 2.06-.94-2.06-.94L8.5 2.5l-.94 2.06-2.06.94zm10 10l.94 2.06.94-2.06 2.06-.94-2.06-.94-.94-2.06-.94 2.06-2.06.94z\"/><path d=\"M17.41 7.96l-1.37-1.37c-.4-.4-.92-.59-1.43-.59-.52 0-1.04.2-1.43.59L10.3 9.45l-7.72 7.72c-.78.78-.78 2.05 0 2.83L4 21.41c.39.39.9.59 1.41.59.51 0 1.02-.2 1.41-.59l7.78-7.78 2.81-2.81c.8-.78.8-2.07 0-2.86zM5.41 20L4 18.59l7.72-7.72 1.47 1.35L5.41 20z\"/>\n",
              "  </svg>\n",
              "      </button>\n",
              "\n",
              "\n",
              "\n",
              "    <div id=\"df-55f6d898-06fd-48d8-8ec3-68024be1b95b\">\n",
              "      <button class=\"colab-df-quickchart\" onclick=\"quickchart('df-55f6d898-06fd-48d8-8ec3-68024be1b95b')\"\n",
              "              title=\"Suggest charts.\"\n",
              "              style=\"display:none;\">\n",
              "\n",
              "<svg xmlns=\"http://www.w3.org/2000/svg\" height=\"24px\"viewBox=\"0 0 24 24\"\n",
              "     width=\"24px\">\n",
              "    <g>\n",
              "        <path d=\"M19 3H5c-1.1 0-2 .9-2 2v14c0 1.1.9 2 2 2h14c1.1 0 2-.9 2-2V5c0-1.1-.9-2-2-2zM9 17H7v-7h2v7zm4 0h-2V7h2v10zm4 0h-2v-4h2v4z\"/>\n",
              "    </g>\n",
              "</svg>\n",
              "      </button>\n",
              "    </div>\n",
              "\n",
              "<style>\n",
              "  .colab-df-quickchart {\n",
              "    background-color: #E8F0FE;\n",
              "    border: none;\n",
              "    border-radius: 50%;\n",
              "    cursor: pointer;\n",
              "    display: none;\n",
              "    fill: #1967D2;\n",
              "    height: 32px;\n",
              "    padding: 0 0 0 0;\n",
              "    width: 32px;\n",
              "  }\n",
              "\n",
              "  .colab-df-quickchart:hover {\n",
              "    background-color: #E2EBFA;\n",
              "    box-shadow: 0px 1px 2px rgba(60, 64, 67, 0.3), 0px 1px 3px 1px rgba(60, 64, 67, 0.15);\n",
              "    fill: #174EA6;\n",
              "  }\n",
              "\n",
              "  [theme=dark] .colab-df-quickchart {\n",
              "    background-color: #3B4455;\n",
              "    fill: #D2E3FC;\n",
              "  }\n",
              "\n",
              "  [theme=dark] .colab-df-quickchart:hover {\n",
              "    background-color: #434B5C;\n",
              "    box-shadow: 0px 1px 3px 1px rgba(0, 0, 0, 0.15);\n",
              "    filter: drop-shadow(0px 1px 2px rgba(0, 0, 0, 0.3));\n",
              "    fill: #FFFFFF;\n",
              "  }\n",
              "</style>\n",
              "\n",
              "    <script>\n",
              "      async function quickchart(key) {\n",
              "        const containerElement = document.querySelector('#' + key);\n",
              "        const charts = await google.colab.kernel.invokeFunction(\n",
              "            'suggestCharts', [key], {});\n",
              "      }\n",
              "    </script>\n",
              "\n",
              "      <script>\n",
              "\n",
              "function displayQuickchartButton(domScope) {\n",
              "  let quickchartButtonEl =\n",
              "    domScope.querySelector('#df-55f6d898-06fd-48d8-8ec3-68024be1b95b button.colab-df-quickchart');\n",
              "  quickchartButtonEl.style.display =\n",
              "    google.colab.kernel.accessAllowed ? 'block' : 'none';\n",
              "}\n",
              "\n",
              "        displayQuickchartButton(document);\n",
              "      </script>\n",
              "      <style>\n",
              "    .colab-df-container {\n",
              "      display:flex;\n",
              "      flex-wrap:wrap;\n",
              "      gap: 12px;\n",
              "    }\n",
              "\n",
              "    .colab-df-convert {\n",
              "      background-color: #E8F0FE;\n",
              "      border: none;\n",
              "      border-radius: 50%;\n",
              "      cursor: pointer;\n",
              "      display: none;\n",
              "      fill: #1967D2;\n",
              "      height: 32px;\n",
              "      padding: 0 0 0 0;\n",
              "      width: 32px;\n",
              "    }\n",
              "\n",
              "    .colab-df-convert:hover {\n",
              "      background-color: #E2EBFA;\n",
              "      box-shadow: 0px 1px 2px rgba(60, 64, 67, 0.3), 0px 1px 3px 1px rgba(60, 64, 67, 0.15);\n",
              "      fill: #174EA6;\n",
              "    }\n",
              "\n",
              "    [theme=dark] .colab-df-convert {\n",
              "      background-color: #3B4455;\n",
              "      fill: #D2E3FC;\n",
              "    }\n",
              "\n",
              "    [theme=dark] .colab-df-convert:hover {\n",
              "      background-color: #434B5C;\n",
              "      box-shadow: 0px 1px 3px 1px rgba(0, 0, 0, 0.15);\n",
              "      filter: drop-shadow(0px 1px 2px rgba(0, 0, 0, 0.3));\n",
              "      fill: #FFFFFF;\n",
              "    }\n",
              "  </style>\n",
              "\n",
              "      <script>\n",
              "        const buttonEl =\n",
              "          document.querySelector('#df-10bdcd49-6259-49b1-8f61-3166dbc55a0a button.colab-df-convert');\n",
              "        buttonEl.style.display =\n",
              "          google.colab.kernel.accessAllowed ? 'block' : 'none';\n",
              "\n",
              "        async function convertToInteractive(key) {\n",
              "          const element = document.querySelector('#df-10bdcd49-6259-49b1-8f61-3166dbc55a0a');\n",
              "          const dataTable =\n",
              "            await google.colab.kernel.invokeFunction('convertToInteractive',\n",
              "                                                     [key], {});\n",
              "          if (!dataTable) return;\n",
              "\n",
              "          const docLinkHtml = 'Like what you see? Visit the ' +\n",
              "            '<a target=\"_blank\" href=https://colab.research.google.com/notebooks/data_table.ipynb>data table notebook</a>'\n",
              "            + ' to learn more about interactive tables.';\n",
              "          element.innerHTML = '';\n",
              "          dataTable['output_type'] = 'display_data';\n",
              "          await google.colab.output.renderOutput(dataTable, element);\n",
              "          const docLink = document.createElement('div');\n",
              "          docLink.innerHTML = docLinkHtml;\n",
              "          element.appendChild(docLink);\n",
              "        }\n",
              "      </script>\n",
              "    </div>\n",
              "  </div>\n"
            ]
          },
          "metadata": {},
          "execution_count": 44
        }
      ]
    },
    {
      "cell_type": "code",
      "source": [
        "data=data[['v1','v2']].copy()\n",
        "data.head()"
      ],
      "metadata": {
        "colab": {
          "base_uri": "https://localhost:8080/",
          "height": 206
        },
        "id": "Nf_QqKera401",
        "outputId": "84708a5b-029e-44cd-f505-aa8fe33d4d95"
      },
      "execution_count": 45,
      "outputs": [
        {
          "output_type": "execute_result",
          "data": {
            "text/plain": [
              "     v1                                                 v2\n",
              "0   ham  Go until jurong point, crazy.. Available only ...\n",
              "1   ham                      Ok lar... Joking wif u oni...\n",
              "2  spam  Free entry in 2 a wkly comp to win FA Cup fina...\n",
              "3   ham  U dun say so early hor... U c already then say...\n",
              "4   ham  Nah I don't think he goes to usf, he lives aro..."
            ],
            "text/html": [
              "\n",
              "\n",
              "  <div id=\"df-d18c469f-5ffe-4404-a2b4-8c12ab4a4830\">\n",
              "    <div class=\"colab-df-container\">\n",
              "      <div>\n",
              "<style scoped>\n",
              "    .dataframe tbody tr th:only-of-type {\n",
              "        vertical-align: middle;\n",
              "    }\n",
              "\n",
              "    .dataframe tbody tr th {\n",
              "        vertical-align: top;\n",
              "    }\n",
              "\n",
              "    .dataframe thead th {\n",
              "        text-align: right;\n",
              "    }\n",
              "</style>\n",
              "<table border=\"1\" class=\"dataframe\">\n",
              "  <thead>\n",
              "    <tr style=\"text-align: right;\">\n",
              "      <th></th>\n",
              "      <th>v1</th>\n",
              "      <th>v2</th>\n",
              "    </tr>\n",
              "  </thead>\n",
              "  <tbody>\n",
              "    <tr>\n",
              "      <th>0</th>\n",
              "      <td>ham</td>\n",
              "      <td>Go until jurong point, crazy.. Available only ...</td>\n",
              "    </tr>\n",
              "    <tr>\n",
              "      <th>1</th>\n",
              "      <td>ham</td>\n",
              "      <td>Ok lar... Joking wif u oni...</td>\n",
              "    </tr>\n",
              "    <tr>\n",
              "      <th>2</th>\n",
              "      <td>spam</td>\n",
              "      <td>Free entry in 2 a wkly comp to win FA Cup fina...</td>\n",
              "    </tr>\n",
              "    <tr>\n",
              "      <th>3</th>\n",
              "      <td>ham</td>\n",
              "      <td>U dun say so early hor... U c already then say...</td>\n",
              "    </tr>\n",
              "    <tr>\n",
              "      <th>4</th>\n",
              "      <td>ham</td>\n",
              "      <td>Nah I don't think he goes to usf, he lives aro...</td>\n",
              "    </tr>\n",
              "  </tbody>\n",
              "</table>\n",
              "</div>\n",
              "      <button class=\"colab-df-convert\" onclick=\"convertToInteractive('df-d18c469f-5ffe-4404-a2b4-8c12ab4a4830')\"\n",
              "              title=\"Convert this dataframe to an interactive table.\"\n",
              "              style=\"display:none;\">\n",
              "\n",
              "  <svg xmlns=\"http://www.w3.org/2000/svg\" height=\"24px\"viewBox=\"0 0 24 24\"\n",
              "       width=\"24px\">\n",
              "    <path d=\"M0 0h24v24H0V0z\" fill=\"none\"/>\n",
              "    <path d=\"M18.56 5.44l.94 2.06.94-2.06 2.06-.94-2.06-.94-.94-2.06-.94 2.06-2.06.94zm-11 1L8.5 8.5l.94-2.06 2.06-.94-2.06-.94L8.5 2.5l-.94 2.06-2.06.94zm10 10l.94 2.06.94-2.06 2.06-.94-2.06-.94-.94-2.06-.94 2.06-2.06.94z\"/><path d=\"M17.41 7.96l-1.37-1.37c-.4-.4-.92-.59-1.43-.59-.52 0-1.04.2-1.43.59L10.3 9.45l-7.72 7.72c-.78.78-.78 2.05 0 2.83L4 21.41c.39.39.9.59 1.41.59.51 0 1.02-.2 1.41-.59l7.78-7.78 2.81-2.81c.8-.78.8-2.07 0-2.86zM5.41 20L4 18.59l7.72-7.72 1.47 1.35L5.41 20z\"/>\n",
              "  </svg>\n",
              "      </button>\n",
              "\n",
              "\n",
              "\n",
              "    <div id=\"df-72102afc-d760-42dc-802e-0ccc39e74d69\">\n",
              "      <button class=\"colab-df-quickchart\" onclick=\"quickchart('df-72102afc-d760-42dc-802e-0ccc39e74d69')\"\n",
              "              title=\"Suggest charts.\"\n",
              "              style=\"display:none;\">\n",
              "\n",
              "<svg xmlns=\"http://www.w3.org/2000/svg\" height=\"24px\"viewBox=\"0 0 24 24\"\n",
              "     width=\"24px\">\n",
              "    <g>\n",
              "        <path d=\"M19 3H5c-1.1 0-2 .9-2 2v14c0 1.1.9 2 2 2h14c1.1 0 2-.9 2-2V5c0-1.1-.9-2-2-2zM9 17H7v-7h2v7zm4 0h-2V7h2v10zm4 0h-2v-4h2v4z\"/>\n",
              "    </g>\n",
              "</svg>\n",
              "      </button>\n",
              "    </div>\n",
              "\n",
              "<style>\n",
              "  .colab-df-quickchart {\n",
              "    background-color: #E8F0FE;\n",
              "    border: none;\n",
              "    border-radius: 50%;\n",
              "    cursor: pointer;\n",
              "    display: none;\n",
              "    fill: #1967D2;\n",
              "    height: 32px;\n",
              "    padding: 0 0 0 0;\n",
              "    width: 32px;\n",
              "  }\n",
              "\n",
              "  .colab-df-quickchart:hover {\n",
              "    background-color: #E2EBFA;\n",
              "    box-shadow: 0px 1px 2px rgba(60, 64, 67, 0.3), 0px 1px 3px 1px rgba(60, 64, 67, 0.15);\n",
              "    fill: #174EA6;\n",
              "  }\n",
              "\n",
              "  [theme=dark] .colab-df-quickchart {\n",
              "    background-color: #3B4455;\n",
              "    fill: #D2E3FC;\n",
              "  }\n",
              "\n",
              "  [theme=dark] .colab-df-quickchart:hover {\n",
              "    background-color: #434B5C;\n",
              "    box-shadow: 0px 1px 3px 1px rgba(0, 0, 0, 0.15);\n",
              "    filter: drop-shadow(0px 1px 2px rgba(0, 0, 0, 0.3));\n",
              "    fill: #FFFFFF;\n",
              "  }\n",
              "</style>\n",
              "\n",
              "    <script>\n",
              "      async function quickchart(key) {\n",
              "        const containerElement = document.querySelector('#' + key);\n",
              "        const charts = await google.colab.kernel.invokeFunction(\n",
              "            'suggestCharts', [key], {});\n",
              "      }\n",
              "    </script>\n",
              "\n",
              "      <script>\n",
              "\n",
              "function displayQuickchartButton(domScope) {\n",
              "  let quickchartButtonEl =\n",
              "    domScope.querySelector('#df-72102afc-d760-42dc-802e-0ccc39e74d69 button.colab-df-quickchart');\n",
              "  quickchartButtonEl.style.display =\n",
              "    google.colab.kernel.accessAllowed ? 'block' : 'none';\n",
              "}\n",
              "\n",
              "        displayQuickchartButton(document);\n",
              "      </script>\n",
              "      <style>\n",
              "    .colab-df-container {\n",
              "      display:flex;\n",
              "      flex-wrap:wrap;\n",
              "      gap: 12px;\n",
              "    }\n",
              "\n",
              "    .colab-df-convert {\n",
              "      background-color: #E8F0FE;\n",
              "      border: none;\n",
              "      border-radius: 50%;\n",
              "      cursor: pointer;\n",
              "      display: none;\n",
              "      fill: #1967D2;\n",
              "      height: 32px;\n",
              "      padding: 0 0 0 0;\n",
              "      width: 32px;\n",
              "    }\n",
              "\n",
              "    .colab-df-convert:hover {\n",
              "      background-color: #E2EBFA;\n",
              "      box-shadow: 0px 1px 2px rgba(60, 64, 67, 0.3), 0px 1px 3px 1px rgba(60, 64, 67, 0.15);\n",
              "      fill: #174EA6;\n",
              "    }\n",
              "\n",
              "    [theme=dark] .colab-df-convert {\n",
              "      background-color: #3B4455;\n",
              "      fill: #D2E3FC;\n",
              "    }\n",
              "\n",
              "    [theme=dark] .colab-df-convert:hover {\n",
              "      background-color: #434B5C;\n",
              "      box-shadow: 0px 1px 3px 1px rgba(0, 0, 0, 0.15);\n",
              "      filter: drop-shadow(0px 1px 2px rgba(0, 0, 0, 0.3));\n",
              "      fill: #FFFFFF;\n",
              "    }\n",
              "  </style>\n",
              "\n",
              "      <script>\n",
              "        const buttonEl =\n",
              "          document.querySelector('#df-d18c469f-5ffe-4404-a2b4-8c12ab4a4830 button.colab-df-convert');\n",
              "        buttonEl.style.display =\n",
              "          google.colab.kernel.accessAllowed ? 'block' : 'none';\n",
              "\n",
              "        async function convertToInteractive(key) {\n",
              "          const element = document.querySelector('#df-d18c469f-5ffe-4404-a2b4-8c12ab4a4830');\n",
              "          const dataTable =\n",
              "            await google.colab.kernel.invokeFunction('convertToInteractive',\n",
              "                                                     [key], {});\n",
              "          if (!dataTable) return;\n",
              "\n",
              "          const docLinkHtml = 'Like what you see? Visit the ' +\n",
              "            '<a target=\"_blank\" href=https://colab.research.google.com/notebooks/data_table.ipynb>data table notebook</a>'\n",
              "            + ' to learn more about interactive tables.';\n",
              "          element.innerHTML = '';\n",
              "          dataTable['output_type'] = 'display_data';\n",
              "          await google.colab.output.renderOutput(dataTable, element);\n",
              "          const docLink = document.createElement('div');\n",
              "          docLink.innerHTML = docLinkHtml;\n",
              "          element.appendChild(docLink);\n",
              "        }\n",
              "      </script>\n",
              "    </div>\n",
              "  </div>\n"
            ]
          },
          "metadata": {},
          "execution_count": 45
        }
      ]
    },
    {
      "cell_type": "code",
      "source": [
        "data.rename(columns={'v1':'label','v2':'text'},inplace=True)\n",
        "data.label[data.label == 'ham'] = 0\n",
        "data.label[data.label== 'spam'] = 1"
      ],
      "metadata": {
        "id": "dtaKWzkBbChG"
      },
      "execution_count": 46,
      "outputs": []
    },
    {
      "cell_type": "code",
      "source": [
        "data.head()"
      ],
      "metadata": {
        "colab": {
          "base_uri": "https://localhost:8080/",
          "height": 206
        },
        "id": "Ogv0kQI6bKNe",
        "outputId": "9c78694a-2655-43e5-eb78-95f5a4e3b47b"
      },
      "execution_count": 47,
      "outputs": [
        {
          "output_type": "execute_result",
          "data": {
            "text/plain": [
              "  label                                               text\n",
              "0     0  Go until jurong point, crazy.. Available only ...\n",
              "1     0                      Ok lar... Joking wif u oni...\n",
              "2     1  Free entry in 2 a wkly comp to win FA Cup fina...\n",
              "3     0  U dun say so early hor... U c already then say...\n",
              "4     0  Nah I don't think he goes to usf, he lives aro..."
            ],
            "text/html": [
              "\n",
              "\n",
              "  <div id=\"df-37763ee2-dc13-4f05-84bc-c98617a3c05d\">\n",
              "    <div class=\"colab-df-container\">\n",
              "      <div>\n",
              "<style scoped>\n",
              "    .dataframe tbody tr th:only-of-type {\n",
              "        vertical-align: middle;\n",
              "    }\n",
              "\n",
              "    .dataframe tbody tr th {\n",
              "        vertical-align: top;\n",
              "    }\n",
              "\n",
              "    .dataframe thead th {\n",
              "        text-align: right;\n",
              "    }\n",
              "</style>\n",
              "<table border=\"1\" class=\"dataframe\">\n",
              "  <thead>\n",
              "    <tr style=\"text-align: right;\">\n",
              "      <th></th>\n",
              "      <th>label</th>\n",
              "      <th>text</th>\n",
              "    </tr>\n",
              "  </thead>\n",
              "  <tbody>\n",
              "    <tr>\n",
              "      <th>0</th>\n",
              "      <td>0</td>\n",
              "      <td>Go until jurong point, crazy.. Available only ...</td>\n",
              "    </tr>\n",
              "    <tr>\n",
              "      <th>1</th>\n",
              "      <td>0</td>\n",
              "      <td>Ok lar... Joking wif u oni...</td>\n",
              "    </tr>\n",
              "    <tr>\n",
              "      <th>2</th>\n",
              "      <td>1</td>\n",
              "      <td>Free entry in 2 a wkly comp to win FA Cup fina...</td>\n",
              "    </tr>\n",
              "    <tr>\n",
              "      <th>3</th>\n",
              "      <td>0</td>\n",
              "      <td>U dun say so early hor... U c already then say...</td>\n",
              "    </tr>\n",
              "    <tr>\n",
              "      <th>4</th>\n",
              "      <td>0</td>\n",
              "      <td>Nah I don't think he goes to usf, he lives aro...</td>\n",
              "    </tr>\n",
              "  </tbody>\n",
              "</table>\n",
              "</div>\n",
              "      <button class=\"colab-df-convert\" onclick=\"convertToInteractive('df-37763ee2-dc13-4f05-84bc-c98617a3c05d')\"\n",
              "              title=\"Convert this dataframe to an interactive table.\"\n",
              "              style=\"display:none;\">\n",
              "\n",
              "  <svg xmlns=\"http://www.w3.org/2000/svg\" height=\"24px\"viewBox=\"0 0 24 24\"\n",
              "       width=\"24px\">\n",
              "    <path d=\"M0 0h24v24H0V0z\" fill=\"none\"/>\n",
              "    <path d=\"M18.56 5.44l.94 2.06.94-2.06 2.06-.94-2.06-.94-.94-2.06-.94 2.06-2.06.94zm-11 1L8.5 8.5l.94-2.06 2.06-.94-2.06-.94L8.5 2.5l-.94 2.06-2.06.94zm10 10l.94 2.06.94-2.06 2.06-.94-2.06-.94-.94-2.06-.94 2.06-2.06.94z\"/><path d=\"M17.41 7.96l-1.37-1.37c-.4-.4-.92-.59-1.43-.59-.52 0-1.04.2-1.43.59L10.3 9.45l-7.72 7.72c-.78.78-.78 2.05 0 2.83L4 21.41c.39.39.9.59 1.41.59.51 0 1.02-.2 1.41-.59l7.78-7.78 2.81-2.81c.8-.78.8-2.07 0-2.86zM5.41 20L4 18.59l7.72-7.72 1.47 1.35L5.41 20z\"/>\n",
              "  </svg>\n",
              "      </button>\n",
              "\n",
              "\n",
              "\n",
              "    <div id=\"df-f7bf302f-043c-47da-8b38-74899a92d395\">\n",
              "      <button class=\"colab-df-quickchart\" onclick=\"quickchart('df-f7bf302f-043c-47da-8b38-74899a92d395')\"\n",
              "              title=\"Suggest charts.\"\n",
              "              style=\"display:none;\">\n",
              "\n",
              "<svg xmlns=\"http://www.w3.org/2000/svg\" height=\"24px\"viewBox=\"0 0 24 24\"\n",
              "     width=\"24px\">\n",
              "    <g>\n",
              "        <path d=\"M19 3H5c-1.1 0-2 .9-2 2v14c0 1.1.9 2 2 2h14c1.1 0 2-.9 2-2V5c0-1.1-.9-2-2-2zM9 17H7v-7h2v7zm4 0h-2V7h2v10zm4 0h-2v-4h2v4z\"/>\n",
              "    </g>\n",
              "</svg>\n",
              "      </button>\n",
              "    </div>\n",
              "\n",
              "<style>\n",
              "  .colab-df-quickchart {\n",
              "    background-color: #E8F0FE;\n",
              "    border: none;\n",
              "    border-radius: 50%;\n",
              "    cursor: pointer;\n",
              "    display: none;\n",
              "    fill: #1967D2;\n",
              "    height: 32px;\n",
              "    padding: 0 0 0 0;\n",
              "    width: 32px;\n",
              "  }\n",
              "\n",
              "  .colab-df-quickchart:hover {\n",
              "    background-color: #E2EBFA;\n",
              "    box-shadow: 0px 1px 2px rgba(60, 64, 67, 0.3), 0px 1px 3px 1px rgba(60, 64, 67, 0.15);\n",
              "    fill: #174EA6;\n",
              "  }\n",
              "\n",
              "  [theme=dark] .colab-df-quickchart {\n",
              "    background-color: #3B4455;\n",
              "    fill: #D2E3FC;\n",
              "  }\n",
              "\n",
              "  [theme=dark] .colab-df-quickchart:hover {\n",
              "    background-color: #434B5C;\n",
              "    box-shadow: 0px 1px 3px 1px rgba(0, 0, 0, 0.15);\n",
              "    filter: drop-shadow(0px 1px 2px rgba(0, 0, 0, 0.3));\n",
              "    fill: #FFFFFF;\n",
              "  }\n",
              "</style>\n",
              "\n",
              "    <script>\n",
              "      async function quickchart(key) {\n",
              "        const containerElement = document.querySelector('#' + key);\n",
              "        const charts = await google.colab.kernel.invokeFunction(\n",
              "            'suggestCharts', [key], {});\n",
              "      }\n",
              "    </script>\n",
              "\n",
              "      <script>\n",
              "\n",
              "function displayQuickchartButton(domScope) {\n",
              "  let quickchartButtonEl =\n",
              "    domScope.querySelector('#df-f7bf302f-043c-47da-8b38-74899a92d395 button.colab-df-quickchart');\n",
              "  quickchartButtonEl.style.display =\n",
              "    google.colab.kernel.accessAllowed ? 'block' : 'none';\n",
              "}\n",
              "\n",
              "        displayQuickchartButton(document);\n",
              "      </script>\n",
              "      <style>\n",
              "    .colab-df-container {\n",
              "      display:flex;\n",
              "      flex-wrap:wrap;\n",
              "      gap: 12px;\n",
              "    }\n",
              "\n",
              "    .colab-df-convert {\n",
              "      background-color: #E8F0FE;\n",
              "      border: none;\n",
              "      border-radius: 50%;\n",
              "      cursor: pointer;\n",
              "      display: none;\n",
              "      fill: #1967D2;\n",
              "      height: 32px;\n",
              "      padding: 0 0 0 0;\n",
              "      width: 32px;\n",
              "    }\n",
              "\n",
              "    .colab-df-convert:hover {\n",
              "      background-color: #E2EBFA;\n",
              "      box-shadow: 0px 1px 2px rgba(60, 64, 67, 0.3), 0px 1px 3px 1px rgba(60, 64, 67, 0.15);\n",
              "      fill: #174EA6;\n",
              "    }\n",
              "\n",
              "    [theme=dark] .colab-df-convert {\n",
              "      background-color: #3B4455;\n",
              "      fill: #D2E3FC;\n",
              "    }\n",
              "\n",
              "    [theme=dark] .colab-df-convert:hover {\n",
              "      background-color: #434B5C;\n",
              "      box-shadow: 0px 1px 3px 1px rgba(0, 0, 0, 0.15);\n",
              "      filter: drop-shadow(0px 1px 2px rgba(0, 0, 0, 0.3));\n",
              "      fill: #FFFFFF;\n",
              "    }\n",
              "  </style>\n",
              "\n",
              "      <script>\n",
              "        const buttonEl =\n",
              "          document.querySelector('#df-37763ee2-dc13-4f05-84bc-c98617a3c05d button.colab-df-convert');\n",
              "        buttonEl.style.display =\n",
              "          google.colab.kernel.accessAllowed ? 'block' : 'none';\n",
              "\n",
              "        async function convertToInteractive(key) {\n",
              "          const element = document.querySelector('#df-37763ee2-dc13-4f05-84bc-c98617a3c05d');\n",
              "          const dataTable =\n",
              "            await google.colab.kernel.invokeFunction('convertToInteractive',\n",
              "                                                     [key], {});\n",
              "          if (!dataTable) return;\n",
              "\n",
              "          const docLinkHtml = 'Like what you see? Visit the ' +\n",
              "            '<a target=\"_blank\" href=https://colab.research.google.com/notebooks/data_table.ipynb>data table notebook</a>'\n",
              "            + ' to learn more about interactive tables.';\n",
              "          element.innerHTML = '';\n",
              "          dataTable['output_type'] = 'display_data';\n",
              "          await google.colab.output.renderOutput(dataTable, element);\n",
              "          const docLink = document.createElement('div');\n",
              "          docLink.innerHTML = docLinkHtml;\n",
              "          element.appendChild(docLink);\n",
              "        }\n",
              "      </script>\n",
              "    </div>\n",
              "  </div>\n"
            ]
          },
          "metadata": {},
          "execution_count": 47
        }
      ]
    },
    {
      "cell_type": "code",
      "source": [
        "port_stem=PorterStemmer()\n",
        "def stemming(content):\n",
        "    stemmed_content = re.sub('[^a-zA-Z]',' ',content)\n",
        "    stemmed_content = stemmed_content.lower()\n",
        "    stemmed_content = stemmed_content.split()\n",
        "    stemmed_content = [port_stem.stem(word) for word in stemmed_content if not word in stopwords.words('english')]\n",
        "    stemmed_content = ' '.join(stemmed_content)\n",
        "    return stemmed_content"
      ],
      "metadata": {
        "id": "IxH2FKsxbLsj"
      },
      "execution_count": 48,
      "outputs": []
    },
    {
      "cell_type": "code",
      "source": [
        "data['text'] = data['text'].apply(stemming)"
      ],
      "metadata": {
        "id": "bDQ5-LYXbRWB"
      },
      "execution_count": 49,
      "outputs": []
    },
    {
      "cell_type": "code",
      "source": [
        "x=data.drop(columns=\"label\")\n",
        "y=data['label']\n"
      ],
      "metadata": {
        "id": "vGRcPr0bcCNo"
      },
      "execution_count": 50,
      "outputs": []
    },
    {
      "cell_type": "code",
      "source": [
        "x_train,x_test,y_train,y_test=train_test_split(x,y,test_size=0.2,stratify=y,random_state=5)"
      ],
      "metadata": {
        "id": "GaIK9ReAbhT4"
      },
      "execution_count": 51,
      "outputs": []
    },
    {
      "cell_type": "code",
      "source": [
        "result = pd.concat([x_train, y_train], axis=1, join='inner').copy()\n"
      ],
      "metadata": {
        "id": "i8ymzmWLca_O"
      },
      "execution_count": 52,
      "outputs": []
    },
    {
      "cell_type": "code",
      "source": [
        "ham_array=result.groupby(data.label).get_group(0)\n",
        "spam_array=result.groupby(data.label).get_group(1)\n",
        "spam={}\n",
        "ham={}\n",
        "\n"
      ],
      "metadata": {
        "id": "EIRbXIqDc0ek"
      },
      "execution_count": 53,
      "outputs": []
    },
    {
      "cell_type": "code",
      "source": [
        "\n",
        "ham_size=ham_array.size\n",
        "spam_size=spam_array.size\n",
        "\n",
        "spam_array=spam_array.drop(columns='label',axis=1)\n",
        "spam_array_values=spam_array['text'].values\n",
        "# print(spam_array_values)\n",
        "\n",
        "spam_words=0\n",
        "for sent in spam_array_values:\n",
        "  words=sent.split()\n",
        "  # spam_words+=len(words)\n",
        "  for word in words:\n",
        "    if word in spam:\n",
        "      spam[word]+=1\n",
        "    else:\n",
        "      spam[word]=2\n",
        "\n",
        "spam_words=sum(spam.values())\n",
        "print(spam_words)\n",
        "print(spam)\n",
        "\n",
        "\n"
      ],
      "metadata": {
        "colab": {
          "base_uri": "https://localhost:8080/"
        },
        "id": "phD54UbSdInX",
        "outputId": "fb1ef83e-1a56-4588-9922-38fd93d7fb17"
      },
      "execution_count": 54,
      "outputs": [
        {
          "output_type": "stream",
          "name": "stdout",
          "text": [
            "10943\n",
            "{'b': 23, 'floppi': 2, 'snappi': 2, 'happi': 2, 'gay': 7, 'chat': 38, 'servic': 57, 'photo': 3, 'upload': 3, 'call': 328, 'p': 147, 'min': 75, 'stop': 97, 'text': 122, 'freemsg': 10, 'hey': 6, 'darl': 2, 'week': 56, 'word': 20, 'back': 18, 'like': 11, 'fun': 9, 'still': 7, 'tb': 2, 'ok': 6, 'xxx': 12, 'std': 12, 'chg': 3, 'send': 56, 'rcv': 3, 'today': 32, 'voda': 5, 'number': 35, 'end': 23, 'select': 29, 'receiv': 33, 'award': 57, 'match': 12, 'pleas': 44, 'quot': 5, 'claim': 98, 'code': 26, 'standard': 5, 'rate': 33, 'app': 4, 'messag': 39, 'free': 187, 'welcom': 8, 'new': 56, 'improv': 2, 'sex': 9, 'dog': 8, 'club': 20, 'unsubscrib': 17, 'repli': 83, 'msg': 47, 'want': 23, 'get': 70, 'laid': 3, 'tonight': 4, 'real': 12, 'locat': 3, 'sent': 7, 'direct': 9, 'ur': 120, 'mob': 22, 'join': 16, 'uk': 59, 'largest': 3, 'network': 21, 'txting': 9, 'moan': 2, 'nyt': 4, 'ec': 4, 'orang': 22, 'custom': 38, 'may': 6, 'camera': 32, 'phone': 49, 'upgrad': 5, 'loyalti': 6, 'offer': 38, 'thmarch': 2, 'c': 52, 'appli': 26, 'opt': 14, 'availa': 2, 'dear': 12, 'voucher': 30, 'holder': 5, 'pc': 6, 'go': 30, 'http': 18, 'www': 74, 'e': 14, 'tlp': 4, 'co': 41, 'reward': 10, 'ts': 10, 'cs': 40, 'balanc': 7, 'next': 12, 'question': 9, 'sang': 2, 'uptown': 2, 'girl': 9, 'answer': 6, 'txt': 149, 'good': 7, 'luck': 3, 'entri': 27, 'weekli': 17, 'comp': 10, 'enter': 15, 'textcomp': 4, 'com': 48, 'cust': 4, 'care': 7, 'mobil': 124, 'must': 6, 'nokia': 64, 'collect': 45, 'tc': 10, 'biz': 7, 'optout': 19, 'gbp': 12, 'mtmsg': 4, 'txtauction': 5, 'hi': 15, 'night': 7, 'lucki': 7, 'uve': 2, 'invit': 8, 'xchat': 4, 'wildest': 2, 'msgrcvdhg': 4, 'suit': 17, 'land': 33, 'row': 15, 'w': 40, 'j': 15, 'hl': 18, 'ldn': 11, 'yr': 17, 'eastend': 3, 'tv': 6, 'quiz': 12, 'flower': 4, 'dot': 3, 'compar': 3, 'violet': 3, 'tulip': 3, 'f': 12, 'lili': 3, 'chanc': 24, 'win': 62, 'cash': 62, 'wkent': 3, 'import': 10, 'announc': 5, 'freephon': 7, 'gent': 2, 'tri': 34, 'contact': 53, 'last': 12, 'weekend': 12, 'draw': 36, 'show': 33, 'prize': 86, 'guarante': 44, 'k': 12, 'valid': 26, 'hr': 23, 'ppm': 48, 'tf': 4, 'alfi': 3, 'moon': 3, 'children': 3, 'need': 11, 'song': 3, 'tell': 15, 'tone': 70, 'chariti': 7, 'poli': 23, 'zed': 6, 'profit': 3, 'auction': 16, 'take': 17, 'part': 11, 'hg': 12, 'jhl': 5, 'smsservic': 2, 'yourinclus': 2, 'credit': 17, 'pl': 9, 'goto': 5, 'comuk': 8, 'net': 13, 'login': 5, 'qxj': 4, 'extra': 7, 'charg': 19, 'help': 24, 'cm': 5, 'ae': 4, 'polyphon': 5, 'everi': 24, 'pt': 3, 'st': 25, 'txtin': 5, 'friend': 15, 'info': 17, 'wkli': 14, 'fa': 5, 'cup': 5, 'final': 14, 'tkt': 4, 'top': 15, 'rington': 32, 'sub': 11, 'subpoli': 3, 'per': 37, 'sm': 31, 'privat': 18, 'account': 18, 'statement': 16, 'un': 13, 'redeem': 14, 'point': 15, 'identifi': 15, 'xx': 13, 'expir': 16, 'dave': 3, 'notic': 4, 'tenerif': 8, 'holiday': 28, 'landlin': 31, 'sae': 19, 'box': 50, 'cw': 5, 'wx': 8, 'euro': 5, 'pobox': 34, 'profession': 2, 'sport': 7, 'tiger': 2, 'wood': 2, 'play': 14, 'video': 30, 'half': 13, 'price': 16, 'line': 38, 'rental': 13, 'mth': 20, 'cross': 3, 'ntwk': 4, 'mobileupd': 14, 'singl': 6, 'chart': 3, 'choos': 9, 'qualiti': 3, 'rodger': 2, 'burn': 2, 'camcord': 13, 'deliveri': 19, 'tomorrow': 10, 'mobi': 3, 'pub': 3, 'high': 3, 'street': 3, 'u': 158, 'know': 23, 'duchess': 3, 'cornwal': 3, 'first': 7, 'name': 17, 'unsub': 6, 'sp': 8, 'textpod': 5, 'gb': 6, 'ipod': 12, 'wk': 25, 'pod': 5, 'custcar': 9, 'fanci': 9, 'flirt': 6, 'date': 26, 'fastest': 3, 'grow': 3, 'rcvd': 9, 'loan': 5, 'purpos': 4, 'even': 8, 'bad': 2, 'tenant': 4, 'noworriesloan': 2, 'realli': 2, 'horni': 7, 'see': 16, 'nake': 2, 'hot': 14, 'pm': 24, 'repres': 7, 'cost': 26, 'motorola': 9, 'upto': 2, 'linerent': 4, 'x': 18, 'tooth': 2, 'wv': 2, 'xxxxxx': 3, 'worth': 12, 'discount': 8, 'shop': 14, 'savamob': 13, 'uz': 5, 'tddnewslett': 2, 'emc': 2, 'game': 22, 'thedailydraw': 2, 'helen': 2, 'dozen': 2, 'great': 11, 'prizeswith': 2, 'someon': 14, 'find': 26, 'ls': 7, 'hb': 3, 'handset': 6, 'anytim': 12, 'unlimit': 9, 'colour': 18, 'england': 9, 'flag': 8, 'lion': 4, 'click': 6, 'follow': 9, 'deliv': 5, 'minut': 11, 'stay': 3, 'british': 3, 'hotel': 5, 'noth': 5, 'valu': 10, 'dial': 2, 'nation': 20, 'bx': 8, 'sw': 5, 'ss': 5, 'bahama': 5, 'callfreefon': 3, 'speak': 11, 'live': 25, 'oper': 13, 'either': 10, 'cruis': 3, 'bloomberg': 5, 'center': 3, 'wait': 17, 'futur': 5, 'career': 4, 'music': 19, 'gift': 18, 'start': 12, 'tsc': 5, 'ldew': 10, 'skillgam': 3, 'winaweek': 3, 'age': 21, 'ppermesssubscript': 3, 'ibh': 3, 'sunshin': 7, 'super': 3, 'soni': 7, 'dvd': 7, 'record': 6, 'cannam': 2, 'capit': 2, 'australia': 2, 'mquiz': 2, 'annonc': 2, 'year': 12, 'arrang': 3, 'upgrdcentr': 2, 'th': 4, 'juli': 3, 'avail': 3, 'svc': 2, 'hardcor': 3, 'verifi': 4, 'panason': 2, 'bluetoothhdset': 2, 'doublemin': 2, 'doubletxt': 2, 'contract': 5, 'congratul': 14, 'cd': 13, 'tnc': 7, 'ppmx': 9, 'urgent': 60, 'bonu': 17, 'caller': 12, 'attempt': 19, 'item': 2, 'cfca': 2, 'twink': 2, 'bear': 3, 'scalli': 2, 'skin': 2, 'jock': 2, 'miss': 9, 'nat': 5, 'current': 11, 'pound': 17, 'maxim': 6, 'meg': 2, 'cc': 6, 'anoth': 3, 'polo': 3, 'ltd': 15, 'london': 5, 'busi': 3, 'money': 5, 'wine': 2, 'wot': 2, 'hmv': 9, 'germani': 4, 'penc': 4, 'fix': 3, 'via': 3, 'access': 8, 'prepay': 3, 'porn': 5, 'chrgd': 2, 'day': 31, 'exit': 2, 'mate': 12, 'wq': 13, 'norm': 8, 'decemb': 6, 'entitl': 7, 'updat': 20, 'latest': 33, 'nd': 19, 'qu': 3, 'spook': 6, 'halloween': 4, 'logo': 10, 'pic': 17, 'plu': 7, 'eeri': 5, 'card': 5, 'spree': 6, 'mobstorequiz': 2, 'break': 3, 'accommodationvouch': 2, 'term': 8, 'condit': 4, 'mustprovid': 2, 'mani': 4, 'local': 5, 'r': 26, 'virgin': 3, 'readi': 5, 'fil': 3, 'sexual': 2, 'cute': 2, 'simpli': 4, 'password': 4, 'mix': 4, 'usher': 3, 'britney': 3, 'fml': 3, 'homeown': 3, 'previous': 3, 'refus': 4, 'bought': 2, 'one': 10, 'etc': 7, 'warner': 3, 'villag': 3, 'colin': 2, 'farrel': 2, 'swat': 2, 'wkend': 2, 'med': 3, 'popcorn': 2, 'ticket': 4, 'kiosk': 3, 'mre': 2, 'film': 5, 'vpod': 2, 'csbcm': 3, 'wc': 9, 'n': 25, 'callcost': 3, 'mobilesvari': 3, 'max': 6, 'sipix': 6, 'digit': 8, 'within': 7, 'bp': 3, 'warranti': 3, 'babe': 10, 'jordan': 3, 'im': 6, 'home': 3, 'abroad': 2, 'lone': 3, 'wanna': 7, 'xxsp': 2, 'visionsm': 3, 'stopcost': 2, 'thank': 13, 'continu': 2, 'support': 3, 'us': 6, 'presid': 2, 'an': 6, 'q': 6, 'conact': 2, 'xma': 15, 'sonyericsson': 4, 'bluetooth': 8, 'doubl': 15, 'qf': 2, 'regist': 6, 'subscrib': 10, 'g': 15, 'will': 2, 'hear': 3, 'strt': 2, 'netcollex': 4, 'ltdhelpdesk': 2, 'secret': 9, 'admir': 9, 'look': 10, 'make': 12, 'reveal': 15, 'think': 12, 'special': 25, 'winner': 16, 'mr': 3, 'foley': 3, 'excit': 5, 'soon': 4, 'keep': 6, 'eye': 4, 'visit': 5, 'brand': 5, 'flight': 7, 'inc': 7, 'getz': 9, 'boltblu': 2, 'mono': 4, 'eg': 11, 'cha': 3, 'slide': 2, 'yeah': 2, 'slow': 2, 'jamz': 2, 'toxic': 2, 'come': 4, 'clair': 3, 'havin': 2, 'borin': 2, 'time': 14, 'alon': 4, 'cum': 6, 'nite': 4, 'hope': 4, 'luv': 5, 'minmoremobsemspobox': 3, 'po': 28, 'wa': 4, 'marvel': 2, 'offici': 5, 'ultim': 2, 'spider': 3, 'man': 3, 'right': 3, 'ball': 2, 'wallpap': 4, 'receipt': 4, 'correct': 5, 'elvi': 2, 'presley': 2, 'birthday': 2, 'lookin': 2, 'sauci': 3, 'daytim': 2, 'wiv': 3, 'busti': 2, 'marri': 2, 'woman': 2, 'sort': 2, 'janinexx': 2, 'minmobsmorelkpobox': 3, 'hp': 5, 'fl': 4, 'dont': 10, 'forget': 3, 'place': 5, 'request': 3, 'stchoic': 2, 'wish': 3, 'inform': 7, 'complimentari': 13, 'star': 4, 'ibiza': 5, 'lose': 2, 'sk': 10, 'wp': 5, 'horniest': 2, 'sign': 3, 'instruct': 3, 'lp': 3, 'enjoy': 11, 'content': 11, 'provid': 4, 'well': 5, 'done': 4, 'costa': 5, 'del': 5, 'sol': 5, 'await': 23, 'toclaim': 4, 'stockport': 4, 'xh': 5, 'congrat': 9, 'cinema': 3, 'pass': 5, 'suprman': 3, 'v': 5, 'matrix': 3, 'starwar': 3, 'ip': 7, 'abta': 4, 'bangbab': 2, 'order': 14, 'way': 2, 'download': 6, 'wap': 11, 'bangb': 2, 'internet': 2, 'menu': 2, 'yf': 3, 'activ': 5, 'reach': 6, 'asap': 7, 'qp': 5, 'cmon': 2, 'turn': 2, 'fantasi': 9, 'sticki': 2, 'cancel': 6, 'player': 10, 'countri': 4, 'algarv': 3, 'ansr': 4, 'tyron': 4, 'bore': 5, 'speed': 2, 'speedchat': 3, 'em': 2, 'swap': 2, 'chatter': 2, 'rcd': 2, 'trip': 4, 'eurodisinc': 3, 'trav': 3, 'aco': 3, 'di': 3, 'morefrmmob': 3, 'shracomorsglsuplt': 3, 'aj': 3, 'summer': 6, 'sexi': 11, 'area': 8, 'monthli': 2, 'mobsi': 2, 'use': 8, 'fifa': 2, 'world': 3, 'held': 2, 'competit': 4, 'web': 3, 'la': 4, 'wu': 5, 'remov': 6, 'txtx': 2, 'garden': 2, 'bulb': 2, 'seed': 2, 'scotsman': 2, 'saturday': 5, 'notxt': 2, 'close': 5, 'ag': 3, 'promo': 3, 'vco': 2, 'set': 4, 'meet': 9, 'moro': 2, 'jane': 2, 'bill': 8, 'mistak': 2, 'shortcod': 2, 'refund': 2, 'bt': 16, 'hour': 5, 'ppmpobox': 2, 'bhamb': 2, 'xe': 2, 'fromm': 4, 'ye': 16, 'member': 9, 'vodafon': 6, 'yer': 4, 'eng': 4, 'comput': 6, 'randomli': 3, 'pick': 7, 'loyal': 3, 'ad': 6, 'benefit': 2, 'train': 2, 'advisor': 2, 'diall': 2, 'wan': 5, 'greet': 3, 'westlif': 3, 'tour': 4, 'unbreak': 3, 'untam': 3, 'unkempt': 3, 'immedi': 5, 'tm': 3, 'widel': 3, 'index': 3, 'wml': 3, 'id': 4, 'ecef': 2, 'ff': 2, 'true': 5, 'jul': 2, 'mp': 6, 'ibhltd': 3, 'ldnw': 5, 'h': 3, 'mtmsgrcvd': 4, 'secur': 2, 'unsecur': 2, 'pw': 3, 'valentin': 3, 'pari': 4, 'rtf': 2, 'sphost': 2, 'month': 7, 'smartcal': 2, 'subscriptn': 2, 'landlineonli': 2, 'user': 7, 'log': 6, 'onto': 6, 'urawinn': 5, 'fantast': 6, 'surpris': 4, 'prizeawait': 2, 'million': 2, 'give': 7, 'away': 4, 'ppt': 2, 'normal': 3, 'jy': 2, 'matthew': 2, 'lux': 3, 'easi': 12, 'bubbletext': 2, 'renew': 4, 'pin': 2, 'tgxxrz': 2, 'let': 5, 'housew': 3, 'voicemail': 2, 'inclus': 5, 'deltomorrow': 2, 'sn': 2, 'nr': 2, 'zs': 2, 'subscript': 7, 'heard': 4, 'knicker': 2, 'beg': 2, 'nikiyu': 2, 'ask': 7, 'cant': 5, 'guess': 7, 'deliveredtomorrow': 3, 'tcr': 3, 'unredeem': 3, 'ave': 4, 'vari': 7, 'post': 4, 'bcm': 5, 'suppli': 4, 'store': 6, 'choic': 3, 'outbid': 2, 'simonwatson': 2, 'shinco': 2, 'plyr': 2, 'bid': 4, 'ac': 10, 'smsreward': 2, 'notif': 2, 'lord': 2, 'ring': 5, 'return': 2, 'king': 3, 'lotr': 3, 'june': 2, 'soundtrack': 2, 'stdtxtrate': 2, 'partner': 3, 'lifetim': 2, 'sppok': 2, 'rstm': 3, 'five': 3, 'gr': 9, 'psp': 2, 'januari': 2, 'male': 4, 'sale': 4, 'cheaper': 3, 'cheap': 4, 'peak': 3, 'dream': 3, 'flyng': 2, 'horo': 3, 'ari': 2, 'mysteri': 2, 'smsco': 2, 'approx': 2, 'check': 5, 'planettalkinst': 2, 'creat': 2, 'page': 2, 'asjesu': 2, 'read': 2, 'wrote': 2, 'opinion': 2, 'recent': 3, 'unabl': 2, 'schedul': 2, 'ref': 3, 'detail': 8, 'videophon': 5, 'videochat': 5, 'wid': 5, 'java': 5, 'dload': 5, 'polyph': 3, 'nolin': 5, 'rentl': 5, 'luxuri': 3, 'canari': 3, 'island': 3, 'xy': 4, 'xxxxxxx': 2, 'dept': 2, 'life': 2, 'never': 2, 'much': 2, 'came': 2, 'made': 2, 'truli': 3, 'sorri': 4, 'could': 5, 'suffici': 2, 'genuin': 3, 'percent': 3, 'spanish': 3, 'arrow': 2, 'got': 5, 'wrc': 5, 'ralli': 5, 'oz': 3, 'lucozad': 5, 'energi': 3, 'le': 3, 'pack': 3, 'itcould': 3, 'forward': 5, 'mailbox': 3, 'alert': 6, 'retriev': 3, 'rock': 2, 'chik': 2, 'filthi': 2, 'rpli': 4, 'filth': 2, 'saristar': 2, 'yt': 2, 'ami': 2, 'coupl': 2, 'adult': 4, 'parti': 2, 'mila': 3, 'blond': 3, 'guy': 7, 'mtalk': 3, 'pp': 3, 'increment': 3, 'santa': 5, 'would': 4, 'littl': 3, 'eve': 6, 'book': 4, 'ntt': 10, 'croydon': 7, 'cr': 9, 'wb': 7, 'uniqu': 3, 'enough': 3, 'august': 3, 'areyouuniqu': 2, 'telediscount': 2, 'ever': 2, 'drive': 3, 'anyon': 2, 'slower': 2, 'idiot': 2, 'everyon': 3, 'faster': 2, 'maniac': 2, 'realiti': 3, 'ton': 2, 'hunk': 2, 'straight': 2, 'gotbab': 2, 'listen': 4, 'extrem': 2, 'dirti': 2, 'offic': 2, 'total': 2, 'privaci': 2, 'sic': 2, 'spjanuari': 2, 'europ': 2, 'sept': 2, 'ba': 2, 'nnfwfli': 2, 'complementari': 2, 'px': 2, 'sender': 2, 'hol': 3, 'xxxmobilemovieclub': 3, 'link': 5, 'qjkgighjjgcbl': 2, 'recd': 4, 'chosen': 4, 'mayb': 3, 'legitimat': 2, 'efreefon': 2, 'wat': 2, 'luci': 3, 'hubbi': 3, 'meetin': 2, 'fri': 3, 'cumin': 2, 'leav': 3, 'jamster': 5, 'heart': 4, 'believ': 2, 'incred': 2, 'learn': 2, 'amaz': 3, 'thing': 3, 'blow': 2, 'mind': 3, 'fwd': 2, 'picsfre': 3, 'vid': 2, 'keyword': 2, 'kit': 2, 'strip': 2, 'ig': 2, 'oja': 2, 'mandi': 2, 'sullivan': 2, 'hotmix': 2, 'fm': 2, 'easter': 2, 'telephon': 2, 'transfer': 2, 'els': 2, 'block': 2, 'breaker': 2, 'delux': 2, 'format': 2, 'featur': 2, 'graphic': 2, 'buy': 6, 'bbdelux': 2, 'challeng': 2, 'polyh': 3, 'allow': 2, 'compani': 3, 'respons': 3, 'supplier': 2, 'recpt': 2, 'process': 2, 'ukp': 2, 'dorothi': 2, 'kiefer': 2, 'bank': 3, 'granit': 3, 'issu': 3, 'strong': 3, 'explos': 3, 'nasdaq': 3, 'symbol': 3, 'cdgt': 3, 'nok': 3, 'subsequ': 2, 'lost': 3, 'membership': 3, 'jackpot': 3, 'dbuk': 3, 'lccltd': 3, 'rw': 3, 'peopl': 3, 'minapn': 2, 'bb': 2, 'nearli': 2, 'ban': 2, 'hungri': 3, 'feel': 3, 'buffi': 2, 'love': 8, 'satisfi': 3, 'men': 4, 'randi': 3, 'pix': 4, 'qlynnbv': 2, 'gsoh': 2, 'spam': 2, 'ladi': 4, 'gigolo': 2, 'oncal': 2, 'mjzgroup': 2, 'olymp': 2, 'cock': 2, 'wife': 2, 'string': 2, 'action': 3, 'rec': 2, 'ea': 2, 'otbox': 2, 'ws': 2, 'babi': 2, 'nasti': 2, 'filthyguy': 2, 'rude': 4, 'bitch': 2, 'slo': 3, 'hard': 3, 'premier': 2, 'survey': 2, 'yesterday': 4, 'howev': 2, 'sptv': 3, 'jersey': 2, 'devil': 2, 'detroit': 2, 'red': 4, 'wing': 2, 'ice': 2, 'hockey': 2, 'incorrect': 2, 'santacal': 2, 'arriv': 5, 'town': 3, 'cal': 2, 'l': 3, 'ch': 2, 'news': 8, 'freefon': 5, 'interflora': 3, 'late': 2, 'christma': 2, 'midnight': 2, 'six': 2, 'csh': 2, 'tsandc': 2, 'html': 2, 'mfl': 2, 'lionm': 3, 'lionp': 3, 'origin': 3, 'best': 7, 'agent': 2, 'load': 2, 'goodi': 2, 'mat': 2, 'themob': 6, 'hit': 4, 'premium': 3, 'pink': 2, 'panther': 2, 'sugabab': 2, 'crazi': 5, 'zebra': 2, 'anim': 2, 'badass': 2, 'hoodi': 2, 'titl': 5, 'dracula': 2, 'ghost': 2, 'addamsfa': 2, 'munster': 2, 'exorcist': 2, 'twilight': 2, 'lover': 3, 'mobno': 3, 'adam': 3, 'yahoo': 3, 'txtno': 3, 'mnth': 3, 'tariff': 6, 'callback': 4, 'str': 3, 'classic': 2, 'park': 2, 'cashto': 3, 'getstop': 3, 'php': 3, 'wr': 2, 'email': 3, 'alertfrom': 2, 'jeri': 2, 'stewarts': 2, 'kbsubject': 2, 'low': 2, 'prescripiton': 2, 'drvgsto': 2, 'gettin': 3, 'shag': 3, 'sam': 4, 'yo': 4, 'open': 2, 'fone': 5, 'movi': 3, 'lookatm': 3, 'purchas': 4, 'clip': 2, 'better': 2, 'mmsto': 2, 'cast': 2, 'aom': 3, 'er': 3, 'refer': 4, 'freeentri': 2, 'xt': 2, 'mobilesdirect': 4, 'stoptxt': 7, 'amanda': 2, 'regard': 2, 'tel': 2, 'subject': 2, 'textand': 2, 'reciev': 2, 'channel': 2, 'teletext': 2, 'pg': 2, 'left': 2, 'gotto': 2, 'boy': 3, 'stopbcm': 2, 'sf': 2, 'laugh': 2, 'chit': 2, 'logon': 2, 'zf': 2, 'space': 3, 'invad': 3, 'orig': 3, 'arcad': 5, 'consol': 3, 'press': 3, 'textbuddi': 3, 'search': 3, 'postcod': 3, 'gaytextbuddi': 3, 'rpl': 2, 'cnl': 2, 'ree': 2, 'wet': 2, 'warm': 3, 'vat': 2, 'shortli': 2, 'instal': 2, 'brows': 2, 'artist': 2, 'realiz': 2, 'thousand': 2, 'old': 3, 'run': 2, 'around': 3, 'tattoo': 2, 'hf': 2, 'thirtyeight': 2, 'georg': 2, 'celeb': 2, 'pocketbab': 2, 'txttowin': 2, 'goal': 5, 'arsen': 3, 'henri': 3, 'liverpool': 3, 'score': 3, 'simpl': 2, 'shot': 2, 'yard': 2, 'bergkamp': 2, 'margin': 2, 'receivea': 3, 'kl': 3, 'optin': 2, 'what': 2, 'bbc': 2, 'tg': 3, 'sexychat': 2, 'nick': 2, 'tom': 2, 'pete': 2, 'dick': 2, 'fact': 2, 'type': 2, 'sun': 2, 'hello': 3, 'seem': 2, 'cool': 3, 'lot': 2, 'flirtparti': 2, 'femal': 2, 'wow': 2, 'vip': 4, 'pre': 2, 'trackmarqu': 2, 'vipclub': 2, 'person': 3, 'prompt': 3, 'llc': 2, 'ny': 2, 'usa': 2, 'mt': 2, 'msgrcvd': 3, 'chloe': 2, 'smash': 2, 'iscom': 2, 'phoni': 2, 'xxxx': 2, 'stamp': 2, 'self': 2, 'address': 3, 'envelop': 2, 'drink': 2, 'bray': 2, 'wicklow': 2, 'eir': 2, 'skilgm': 3, 'winawk': 3, 'perweeksub': 2, 'xclusiv': 2, 'clubsaisai': 2, 'morow': 2, 'soire': 2, 'zouk': 2, 'nichol': 2, 'rose': 2, 'stopsm': 2, 'natalja': 3, 'frnd': 5, 'chang': 2, 'mk': 2, 'wt': 2, 'xxxxxxxxx': 3, 'rg': 2, 'jx': 2, 'dx': 2, 'polic': 2, 'station': 2, 'toilet': 2, 'stolen': 2, 'cop': 2, 'footbal': 2, 'sky': 4, 'gamestar': 2, 'team': 4, 'save': 3, 'orno': 2, 'frog': 3, 'sound': 3, 'mad': 3, 'romcapspam': 2, 'respond': 3, 'presenc': 2, 'sinc': 2, 'outgo': 2, 'bring': 2, 'breath': 3, 'talk': 4, 'okmail': 2, 'unclaim': 2, 'closingd': 2, 'claimcod': 2, 'pmmorefrommobil': 2, 'bremov': 2, 'mobypobox': 2, 'jame': 2, 'eh': 2, 'rr': 2, 'somebodi': 2, 'secretli': 2, 'datebox': 2, 'essexcm': 2, 'xn': 2, 'lead': 2, 'paus': 2, 'simpson': 2, 'releas': 2, 'band': 2, 'die': 2, 'green': 2, 'blue': 2, 'kick': 2, 'season': 2, 'villa': 2, 'ya': 2, 'goten': 2, 'bout': 2, 'scammer': 2, 'smart': 2, 'though': 2, 'regular': 2, 'prem': 2, 'no': 2, 'also': 2, 'bewar': 2, 'rgent': 2, 'advis': 2, 'review': 3, 'upd': 3, 'connect': 4, 'biggest': 2, 'vu': 2, 'sue': 3, 'work': 3, 'lapdanc': 2, 'bedroom': 2, 'textoper': 3, 'da': 2, 'ppmsg': 2, 'txtstar': 2, 'vote': 2, 'sing': 3, 'along': 2, 'karaok': 2, 'banneduk': 2, 'ga': 2, 'till': 4, 'drop': 3, 'travel': 3, 'fixedlin': 3, 'gender': 3, 'wither': 2, 'touch': 2, 'folk': 2, 'commun': 2, 'sim': 3, 'door': 2, 'exp': 2, 'apr': 2, 'headset': 2, 'adp': 2, 'notifi': 2, 'market': 2, 'acl': 3, 'indic': 2, 'compens': 2, 'accid': 2, 'pay': 2, 'thfeb': 2, 'lastest': 2, 'stereophon': 2, 'marley': 2, 'dizze': 2, 'racal': 2, 'libertin': 2, 'stroke': 2, 'nookii': 2, 'bookmark': 2, 'includ': 3, 'mcfli': 2, 'ab': 2, 'sara': 2, 'jorg': 2, 'shock': 2, 'smith': 2, 'switch': 2, 'hack': 2, 'backdoor': 2, 'room': 2, 'fraction': 2, 'neo': 2, 'dp': 2, 'erot': 2, 'ecstaci': 2, 'gpr': 2, 'wed': 3, 'tonex': 2, 'clubz': 2, 'helplin': 3, 'mini': 2, 'snap': 2, 'quizclub': 2, 'rwm': 2, 'ph': 2, 'restrict': 2, 'buddi': 2, 'sir': 2, 'videosound': 3, 'gold': 2, 'musicnew': 2, 'ou': 2, 'lf': 3, 'hvae': 2, 'ten': 2, 'chatlin': 2, 'inclu': 2, 'india': 2, 'serv': 2, 'sed': 2, 'mega': 2, 'giv': 2, 'shit': 2, 'bailiff': 2, 'due': 3, 'newest': 2, 'gossip': 2, 'fit': 2, 'funki': 2, 'yet': 3, 'packag': 2, 'resubmit': 2, 'expiri': 2, 'big': 2, 'brother': 2, 'cro': 2, 'blind': 3, 'rodd': 2, 'aberdeen': 2, 'unit': 2, 'kingdom': 2, 'img': 2, 'icmb': 2, 'cktz': 2, 'hide': 2, 'fan': 2, 'gage': 2, 'deck': 2, 'cnupdat': 2, 'newslett': 2, 'donat': 3, 'unicef': 2, 'asian': 2, 'tsunami': 2, 'disast': 2, 'fund': 2, 'two': 2, 'radio': 2, 'coincid': 2, 'wtlp': 2, 'marsm': 2, 'utel': 2, 'goldvik': 3, 'aq': 2, 'kickoff': 2, 'kept': 2, 'result': 2, 'daili': 3, 'shi': 2, 'brought': 3, 'gmw': 2, 'shsex': 2, 'netun': 2, 'fgkslpopw': 2, 'fgkslpo': 2, 'oh': 2, 'god': 2, 'found': 2, 'glad': 2, 'xafter': 2, 'cst': 2, 'accordingli': 2, 'repeat': 2, 'begin': 2, 'axel': 2, 'akon': 2, 'black': 2, 'bloke': 2, 'zoe': 2, 'skip': 2, 'customercar': 2, 'expressoff': 3, 'thur': 2, 'sat': 2, 'sell': 2, 'fast': 2, 'idew': 2, 'proze': 2, 'norcorp': 2, 'movietrivia': 2, 'ez': 2, 'crazyin': 2, 'sleepingwith': 2, 'finest': 2, 'ymca': 2, 'mg': 2, 'rt': 2, 'pro': 2, 'ringtonek': 3, 'pushbutton': 2, 'dontcha': 2, 'babygoodby': 2, 'golddigg': 2, 'webeburnin': 2, 'macedonia': 2, 'wale': 2, 'scotland': 2, 'poboxox': 2, 'wild': 2, 'ill': 2, 'hurri': 2, 'sexiest': 2, 'dirtiest': 2, 'trivia': 2, 'mid': 2, 'lyricalladi': 2, 'hmmross': 2, 'fink': 2, 'met': 2, 'promis': 2, 'carli': 2, 'minmobsmor': 2, 'lkpobox': 2, 'resent': 2, 'previou': 2, 'fail': 2, 'error': 2, 'queri': 2, 'customersqueri': 2, 'netvis': 2, 'lingeri': 2, 'bridal': 2, 'petticoatdream': 2, 'superb': 2, 'weddingfriend': 2, 'stoptx': 2, 'posh': 2, 'bird': 2, 'chap': 2, 'trial': 2, 'prod': 2, 'champney': 2, 'put': 2, 'dob': 2, 'ta': 2, 'explicit': 3, 'sec': 3, 'gsex': 2, 'fall': 2, 'discreet': 2, 'fav': 2, 'promot': 2, 'citi': 2, 'perwksub': 2}\n"
          ]
        }
      ]
    },
    {
      "cell_type": "code",
      "source": [
        "ham_array=ham_array.drop(columns='label',axis=1)\n",
        "ham_array_values=ham_array['text'].values\n",
        "\n",
        "ham_words=0\n",
        "for sent in ham_array_values:\n",
        "  words=sent.split()\n",
        "  # spam_words+=len(words)\n",
        "  for word in words:\n",
        "    if word in ham:\n",
        "      ham[word]+=1\n",
        "    else:\n",
        "      ham[word]=2\n",
        "\n",
        "ham_words=sum(ham.values())\n",
        "print(ham_words)\n",
        "print(ham)"
      ],
      "metadata": {
        "colab": {
          "base_uri": "https://localhost:8080/"
        },
        "id": "k0hhDFpMdXTa",
        "outputId": "0c749c32-555a-489a-d460-b173f79c3cae"
      },
      "execution_count": 55,
      "outputs": [
        {
          "output_type": "stream",
          "name": "stdout",
          "text": [
            "35567\n",
            "{'got': 202, 'tallent': 2, 'wast': 9, 'ye': 69, 'outsid': 11, 'like': 186, 'hour': 37, 'call': 237, 'whole': 13, 'famili': 21, 'wake': 25, 'caus': 20, 'start': 45, 'two': 25, 'letter': 8, 'copi': 11, 'co': 61, 'one': 135, 'messag': 70, 'speak': 21, 'soon': 48, 'oh': 90, 'thank': 79, 'lot': 41, 'alreadi': 80, 'bought': 6, 'egg': 8, 'see': 129, 'requir': 5, 'pleas': 63, 'left': 29, 'orchard': 7, 'cool': 32, 'time': 193, 'think': 123, 'get': 312, 'know': 197, 'cheesi': 2, 'song': 11, 'frosti': 2, 'snowman': 3, 'good': 190, 'morn': 70, 'dear': 82, 'great': 97, 'amp': 77, 'success': 8, 'day': 197, 'hi': 92, 'spoke': 6, 'maneesha': 3, 'v': 42, 'satisfi': 3, 'experi': 7, 'repli': 43, 'toll': 3, 'free': 51, 'head': 20, 'straight': 4, 'sorri': 127, 'later': 109, 'lt': 268, 'gt': 269, 'min': 35, 'erm': 4, 'thought': 43, 'contract': 3, 'ran': 4, 'th': 32, 'octob': 2, 'say': 105, 'give': 86, 'friend': 71, 'money': 44, 'definit': 6, 'buy': 56, 'end': 33, 'week': 56, 'plan': 48, 'come': 233, 'chennai': 15, 'yup': 32, 'bath': 20, 'liao': 30, 'yeah': 74, 'right': 70, 'bring': 31, 'tape': 4, 'measur': 4, 'fri': 17, 'dude': 19, 'u': 826, 'knw': 16, 'also': 54, 'telugu': 3, 'tht': 13, 'gud': 35, 'k': 119, 'nyt': 7, 'taj': 2, 'mahal': 3, 'symbol': 2, 'love': 185, 'lesser': 2, 'known': 2, 'fact': 7, 'mumtaz': 5, 'shahjahan': 3, 'wife': 26, 'kill': 7, 'husband': 3, 'marri': 10, 'die': 15, 'deliveri': 2, 'sister': 16, 'question': 18, 'aris': 2, 'hell': 6, 'hari': 2, 'inde': 3, 'way': 81, 'either': 10, 'haha': 37, 'use': 50, 'drive': 31, 'usf': 10, 'man': 32, 'stoner': 2, 'lol': 59, 'ouch': 2, 'wish': 59, 'stay': 30, 'bit': 38, 'longer': 6, 'slept': 7, 'uncl': 12, 'atlanta': 5, 'guy': 44, 'semest': 11, 'common': 4, 'hearin': 2, 'r': 115, 'wat': 93, 'ur': 200, 'let': 74, 'ask': 99, 'someth': 61, 'differ': 11, 'smile': 64, 'today': 121, 'evng': 6, 'solv': 7, 'case': 15, 'found': 14, 'murder': 19, 'decim': 20, 'afternoon': 26, 'polic': 11, 'everyon': 15, 'sir': 33, 'sleep': 66, 'took': 18, 'place': 51, 'cook': 11, 'garden': 4, 'pick': 71, 'veget': 4, 'hous': 37, 'maid': 7, 'went': 53, 'post': 20, 'offic': 25, 'children': 8, 'play': 22, 'neighbour': 4, 'marriag': 6, 'arrest': 6, 'immedi': 5, 'reason': 20, 'brilliant': 6, 'mum': 18, 'sent': 53, 'mani': 47, 'sinc': 22, 'want': 174, 'actual': 32, 'enjoy': 26, 'rest': 11, 'aunt': 5, 'anniversari': 3, 'parti': 14, 'tarpon': 2, 'spring': 3, 'n': 119, 'search': 18, 'tat': 8, 'vid': 2, 'finishd': 2, 'tri': 67, 'lost': 10, 'tee': 2, 'hee': 11, 'month': 35, 'kote': 2, 'birthday': 30, 'gone': 15, 'info': 3, 'bt': 14, 'dont': 100, 'cant': 51, 'anyon': 13, 'spare': 3, 'room': 33, 'top': 8, 'ok': 241, 'what': 13, 'dun': 41, 'believ': 15, 'thk': 35, 'told': 48, 'hey': 90, 'sat': 27, 'go': 341, 'intro': 6, 'pilat': 5, 'kickbox': 2, 'make': 108, 'peopl': 38, 'dearer': 4, 'de': 22, 'happi': 105, 'dat': 32, 'feel': 73, 'meet': 92, 'pain': 30, 'miss': 100, 'dem': 5, 'well': 97, 'someon': 39, 'punto': 2, 'woulda': 3, 'wors': 7, 'italian': 6, 'food': 19, 'dunno': 26, 'ju': 28, 'lido': 4, 'lunch': 34, 'quickli': 4, 'open': 17, 'door': 9, 'join': 17, 'leagu': 2, 'keep': 64, 'touch': 14, 'mean': 44, 'deal': 11, 'even': 74, 'person': 50, 'cost': 11, 'escap': 5, 'theatr': 6, 'watch': 61, 'kavalan': 3, 'minut': 35, 'stand': 10, 'away': 16, 'heart': 44, 'ach': 4, 'without': 25, 'wonder': 34, 'crave': 10, 'explicitli': 2, 'nora': 2, 'probabl': 31, 'gonna': 48, 'bother': 9, 'realli': 67, 'pig': 4, 'leh': 21, 'much': 94, 'dad': 27, 'smth': 15, 'eat': 37, 'romant': 4, 'joy': 11, 'father': 12, 'john': 11, 'an': 5, 'hav': 19, 'iq': 5, 'ti': 6, 'ia': 3, 'answer': 19, 'ah': 28, 'confus': 4, 'thing': 92, 'doesnt': 9, 'mayb': 38, 'wrong': 12, 'sort': 16, 'invit': 10, 'tho': 15, 'may': 34, 'honey': 9, 'boo': 6, 'oki': 21, 'yan': 5, 'jiu': 5, 'skip': 2, 'ard': 18, 'oso': 20, 'cine': 6, 'den': 24, 'mrt': 6, 'blah': 4, 'thanx': 27, 'send': 114, 'blackberri': 5, 'torch': 7, 'nigeria': 7, 'find': 38, 'buyer': 3, 'tell': 114, 'bb': 9, 'horribl': 6, 'gal': 14, 'sch': 18, 'stuff': 38, 'mc': 2, 'lose': 19, 'best': 33, 'bcoz': 11, 'comingdown': 2, 'smaller': 2, 'capac': 2, 'quit': 34, 'ex': 11, 'move': 17, 'pub': 16, 'would': 59, 'c': 51, 'cud': 4, 'lei': 20, 'haf': 19, 'alrit': 7, 'girl': 35, 'gail': 2, 'neva': 15, 'take': 123, 'care': 65, 'sweet': 28, 'worri': 36, 'l': 11, 'tr': 2, 'hun': 5, 'yaxxx': 2, 'forgot': 25, 'dan': 3, 'remind': 6, 'hope': 105, 'fun': 19, 'bad': 25, 'avoid': 5, 'guild': 2, 'could': 43, 'bristol': 2, 'road': 10, 'somewher': 9, 'weekend': 23, 'flight': 3, 'alway': 43, 'put': 30, 'busi': 19, 'pictur': 6, 'ass': 11, 'facebook': 7, 'ever': 28, 'met': 9, 'hurt': 31, 'violat': 3, 'home': 135, 'babe': 58, 'still': 119, 'awak': 7, 'aunti': 5, 'number': 59, 'pa': 29, 'ru': 5, 'wana': 12, 'trip': 18, 'sometm': 2, 'stop': 36, 'roommat': 7, 'look': 51, 'stock': 6, 'gotta': 12, 'collect': 9, 'da': 114, 'car': 39, 'petey': 3, 'noi': 2, 'chat': 12, 'coz': 19, 'avent': 2, 'spoken': 5, 'long': 35, 'doin': 8, 'nit': 3, 'js': 2, 'ya': 46, 'x': 39, 'havent': 23, 'check': 46, 'show': 30, 'e': 71, 'finish': 55, 'work': 110, 'bbq': 2, 'mine': 18, 'ish': 12, 'welcom': 5, 'darlin': 13, 'ive': 10, 'back': 106, 'nice': 47, 'night': 90, 'lift': 8, 'tomorrow': 69, 'xxx': 17, 'anyth': 59, 'lar': 31, 'dinner': 30, 'interest': 12, 'wereth': 2, 'monkeespeopl': 2, 'monkeyaround': 2, 'howdi': 2, 'gorgeou': 4, 'rounder': 2, 'xy': 8, 'b': 61, 'bruv': 2, 'break': 9, 'reward': 2, 'small': 10, 'problem': 37, 'auction': 3, 'punj': 2, 'tiwari': 3, 'hold': 16, 'tightli': 2, 'import': 13, 'need': 145, 'life': 58, 'honeybe': 4, 'said': 81, 'sweetest': 4, 'world': 25, 'god': 40, 'laugh': 16, 'wait': 75, 'havnt': 4, 'read': 22, 'msg': 54, 'moral': 8, 'crack': 4, 'joke': 15, 'gm': 6, 'gn': 11, 'ge': 8, 'watchin': 2, 'aliv': 4, 'better': 38, 'correct': 10, 'figur': 11, 'ha': 13, 'nan': 4, 'yalrigu': 2, 'heltini': 2, 'iyo': 2, 'kothi': 2, 'chikku': 12, 'share': 11, 'wit': 14, 'far': 13, 'bodi': 5, 'utter': 3, 'word': 33, 'abt': 19, 'trust': 11, 'other': 9, 'plz': 25, 'nxt': 7, 'project': 15, 'aha': 6, 'lasagna': 2, 'vodka': 2, 'aight': 28, 'text': 76, 'mu': 14, 'swing': 12, 'somebodi': 6, 'physic': 2, 'visa': 2, 'gucci': 2, 'bag': 8, 'easi': 12, 'bill': 6, 'sha': 4, 'im': 66, 'missin': 2, 'jess': 5, 'xx': 11, 'write': 7, 'dictionari': 5, 'mode': 8, 'cover': 9, 'screen': 4, 'hand': 20, 'press': 11, 'gentli': 5, 'remov': 9, 'doc': 7, 'gave': 10, 'med': 8, 'everyth': 26, 'fine': 40, 'happen': 37, 'yo': 30, 'date': 12, 'omg': 8, 'wed': 6, 'chapel': 2, 'frontiervil': 2, 'laptop': 10, 'lor': 119, 'reach': 38, 'new': 60, 'theori': 5, 'argument': 7, 'win': 13, 'situat': 10, 'argu': 4, 'kick': 8, 'syllabu': 2, 'nt': 15, 'bbd': 3, 'hw': 7, 'dvg': 2, 'cold': 6, 'heard': 9, 'vinobanagar': 2, 'violenc': 4, 'condit': 2, 'wen': 20, 'lovabl': 11, 'bcum': 5, 'angri': 18, 'wid': 15, 'dnt': 12, 'serious': 8, 'childish': 7, 'true': 21, 'deep': 10, 'affect': 5, 'luv': 33, 'kettoda': 5, 'manda': 5, 'sign': 7, 'matur': 6, 'big': 27, 'understand': 16, 'bslvyl': 13, 'realis': 4, 'exam': 14, 'outta': 5, 'gr': 14, 'carlo': 12, 'compani': 14, 'languag': 2, 'yep': 9, 'derek': 6, 'sunday': 15, 'stalk': 3, 'insid': 8, 'bedroom': 7, 'wewa': 2, 'iriv': 2, 'mb': 3, 'rememb': 31, 'til': 22, 'last': 51, 'nite': 21, 'nothin': 3, 'mind': 30, 'help': 33, 'hanger': 2, 'heavi': 6, 'pretti': 10, 'late': 49, 'lesson': 21, 'first': 47, 'tp': 2, 'reali': 6, 'soz': 2, 'imat': 2, 'moro': 4, 'woke': 10, 'yeesh': 2, 'fall': 9, 'asleep': 5, 'cd': 2, 'forget': 14, 'ago': 13, 'wtf': 4, 'studi': 20, 'next': 41, 'eve': 12, 'avail': 14, 'washob': 2, 'nob': 2, 'nickey': 2, 'platt': 2, 'instead': 6, 'sm': 18, 'survey': 2, 'kate': 11, 'bloodi': 5, 'babyjontet': 2, 'txt': 13, 'mrng': 10, 'complet': 17, 'cours': 13, 'littl': 21, 'darl': 6, 'coffe': 6, 'run': 23, 'tomo': 15, 'year': 51, 'phone': 74, 'vibrat': 3, 'act': 5, 'might': 29, 'hear': 22, 'near': 8, 'franki': 2, 'benni': 2, 'warner': 2, 'cinema': 6, 'excus': 10, 'decor': 2, 'knew': 12, 'yest': 6, 'wil': 15, 'centr': 5, 'tmr': 23, 'directli': 5, 'behind': 8, 'row': 5, 'yunni': 3, 'walk': 26, 'citylink': 2, 'faster': 3, 'hungri': 10, 'cut': 13, 'short': 9, 'fail': 5, 'sad': 16, 'paper': 13, 'aft': 13, 'wanna': 26, 'sure': 68, 'knock': 2, 'beauti': 19, 'librari': 7, 'surf': 5, 'depend': 7, 'stuck': 4, 'listen': 19, 'deni': 4, 'mina': 2, 'alon': 13, 'weightloss': 2, 'load': 11, 'ebay': 3, 'bro': 5, 'creativ': 3, 'test': 26, 'qualiti': 5, 'review': 2, 'onlin': 20, 'receiv': 10, 'voic': 11, 'express': 4, 'naughti': 7, 'sentiment': 2, 'rowdi': 2, 'ful': 4, 'attitud': 2, 'shi': 3, 'attract': 3, 'funni': 5, 'irrit': 5, 'sup': 5, 'cheer': 9, 'callin': 3, 'sozi': 2, 'culdnt': 2, 'talkbut': 2, 'wannatel': 2, 'detail': 20, 'wenwecan': 2, 'properli': 3, 'goin': 19, 'somethin': 6, 'unless': 7, 'meetin': 4, 'mom': 20, 'stagwood': 2, 'pass': 10, 'winterston': 2, 'victor': 2, 'hill': 5, 'address': 16, 'thinkin': 8, 'pen': 3, 'beyond': 2, 'wont': 28, 'biro': 2, 'master': 4, 'anybodi': 6, 'tel': 14, 'p': 9, 'wesley': 3, 'town': 18, 'bet': 5, 'hella': 4, 'drug': 15, 'although': 2, 'baig': 2, 'face': 26, 'fr': 9, 'done': 39, 'thangam': 3, 'held': 2, 'prasad': 2, 'arabian': 2, 'steed': 2, 'mmmmmm': 3, 'yummi': 4, 'waitin': 3, 'usual': 10, 'oredi': 11, 'pl': 101, 'pay': 32, 'attent': 2, 'old': 11, 'build': 4, 'snow': 13, 'angel': 2, 'snowbal': 2, 'fight': 9, 'catch': 13, 'sell': 14, 'al': 8, 'nah': 9, 'never': 35, 'iphon': 2, 'dey': 7, 'swell': 2, 'deu': 3, 'game': 13, 'comin': 9, 'earli': 30, 'yr': 9, 'basic': 10, 'durban': 3, 'nutter': 2, 'cutter': 2, 'ctter': 2, 'cttergg': 2, 'cttargg': 2, 'ctargg': 2, 'ctagg': 2, 'ie': 2, 'hiya': 9, 'hlday': 2, 'pic': 9, 'mo': 8, 'how': 13, 'camp': 2, 'amrca': 2, 'serena': 2, 'shadow': 2, 'yay': 5, 'bed': 28, 'prin': 2, 'lover': 9, 'pop': 5, 'bout': 12, 'around': 46, 'tonght': 2, 'that': 34, 'cum': 10, 'ill': 33, 'pm': 20, 'enough': 25, 'park': 15, 'miller': 2, 'forward': 13, 'sex': 2, 'cuddl': 5, 'googl': 5, 'map': 5, 'dorm': 3, 'dice': 2, 'art': 5, 'class': 39, 'thru': 7, 'though': 22, 'idea': 11, 'iam': 8, 'addict': 5, 'msging': 3, 'per': 13, 'request': 10, 'mell': 7, 'oru': 5, 'minnaminungint': 4, 'nurungu': 4, 'vettam': 4, 'set': 20, 'callertun': 11, 'caller': 7, 'thx': 2, 'puttin': 3, 'fone': 7, 'selfless': 2, 'plenti': 7, 'entertain': 3, 'hugh': 2, 'lauri': 2, 'stick': 3, 'especi': 10, 'job': 36, 'umma': 8, 'speed': 4, 'meanwhil': 5, 'shit': 27, 'suit': 5, 'xavier': 4, 'decid': 22, 'us': 41, 'second': 19, 'warn': 4, 'samantha': 2, 'jay': 9, 'guitar': 2, 'impress': 4, 'doug': 2, 'realiz': 6, 'live': 18, 'anymor': 8, 'india': 11, 'draw': 5, 'seri': 4, 'south': 8, 'african': 2, 'soil': 2, 'report': 6, 'badrith': 2, 'competit': 3, 'gentleman': 3, 'treat': 16, 'digniti': 3, 'respect': 7, 'di': 26, 'sweater': 2, 'mango': 2, 'size': 4, 'photo': 8, 'shoot': 5, 'spif': 2, 'workag': 2, 'askd': 11, 'hook': 3, 'congratul': 3, 'ore': 2, 'owo': 2, 'wa': 4, 'moment': 11, 'fro': 2, 'wherev': 6, 'januari': 6, 'public': 4, 'holiday': 14, 'govt': 4, 'instituit': 4, 'close': 18, 'includ': 9, 'luton': 2, 'ring': 17, 'h': 2, 'noe': 11, 'la': 6, 'pei': 2, 'bf': 6, 'rite': 16, 'receipt': 4, 'buck': 6, 'bank': 15, 'fee': 3, 'fix': 8, 'bcaz': 2, 'mobil': 14, 'cann': 4, 'kid': 13, 'boost': 4, 'secret': 6, 'energi': 6, 'pack': 5, 'store': 5, 'cereal': 2, 'must': 20, 'gari': 5, 'ja': 5, 'transport': 2, 'less': 11, 'problemat': 2, 'bday': 3, 'no': 2, 'book': 28, 'mon': 8, 'thur': 4, 'card': 13, 'network': 6, 'urgnt': 6, 'lect': 7, 'wn': 3, 'prsn': 2, 'somtim': 3, 'save': 10, 'relat': 7, 'quiet': 3, 'leav': 73, 'eveb': 3, 'taka': 2, 'wan': 39, 'lindsay': 2, 'sigh': 7, 'bar': 6, 'ptbo': 4, 'blue': 9, 'heron': 2, 'aiyar': 5, 'na': 12, 'list': 6, 'babi': 27, 'sunshin': 2, 'dawn': 2, 'refresh': 2, 'breath': 3, 'air': 7, 'awesom': 14, 'omw': 7, 'configur': 2, 'izzit': 5, 'stash': 2, 'dri': 4, 'kalli': 7, 'readi': 34, 'bat': 3, 'nd': 8, 'inning': 4, 'whatev': 17, 'board': 2, 'issu': 6, 'overh': 2, 'reslov': 2, 'softwar': 4, 'inst': 2, 'pend': 4, 'clock': 6, 'nike': 2, 'scare': 5, 'bomb': 2, 'galileo': 3, 'dobbi': 2, 'nope': 13, 'juz': 19, 'talk': 46, 'agre': 2, 'price': 8, 'will': 6, 'salt': 2, 'rub': 3, 'wound': 2, 'holi': 3, 'bud': 4, 'otherwis': 6, 'esplanad': 4, 'els': 17, 'fool': 7, 'protect': 3, 'threat': 4, 'sib': 3, 'sensit': 3, 'inform': 11, 'password': 7, 'atm': 6, 'pin': 5, 'email': 16, 'propos': 3, 'promis': 10, 'tick': 4, 'oooh': 2, 'excit': 3, 'karaok': 3, 'type': 16, 'activ': 5, 'debat': 2, 'whether': 5, 'footbal': 2, 'lazi': 9, 'becoz': 5, 'jan': 4, 'whn': 2, 'ofic': 3, 'cn': 3, 'duffer': 2, 'cartoon': 5, 'music': 4, 'templ': 5, 'church': 5, 'offlin': 2, 'anjola': 2, 'g': 15, 'mcr': 2, 'crucial': 2, 'sometim': 10, 'noon': 10, 'movi': 24, 'tonight': 47, 'prob': 18, 'congrat': 10, 'school': 26, 'everybodi': 5, 'loxahatche': 3, 'xma': 9, 'tree': 4, 'burn': 5, 'cute': 5, 'friendship': 19, 'necessari': 2, 'everi': 31, 'frnd': 17, 'wkend': 4, 'journey': 4, 'terribl': 4, 'wk': 10, 'huge': 3, 'log': 8, 'mark': 9, 'sound': 24, 'costum': 3, 'ooh': 2, 'belli': 6, 'danc': 5, 'moseley': 2, 'cafe': 6, 'flaki': 3, 'parent': 16, 'snot': 2, 'suppos': 13, 'child': 4, 'support': 11, 'ride': 5, 'age': 8, 'anyway': 25, 'unintent': 3, 'nonetheless': 2, 'ga': 14, 'alcohol': 4, 'weed': 8, 'budget': 6, 'oi': 3, 'ami': 3, 'parchi': 2, 'kicchu': 2, 'kaaj': 2, 'kort': 2, 'iccha': 2, 'korch': 2, 'ta': 6, 'tul': 2, 'stupid': 13, 'brother': 21, 'monday': 10, 'vl': 7, 'wot': 22, 'wear': 8, 'shirt': 8, 'jumper': 2, 'hat': 2, 'belt': 2, 'cribb': 2, 'sam': 3, 'nic': 3, 'checkin': 2, 'specif': 3, 'regard': 8, 'jaklin': 2, 'idk': 5, 'fuck': 38, 'environ': 2, 'terrif': 2, 'possibl': 9, 'teach': 9, 'mah': 9, 'aiya': 5, 'misplac': 2, 'mcat': 3, 'id': 20, 'lag': 3, 'part': 17, 'skype': 7, 'wiv': 6, 'hello': 35, 'carolin': 3, 'favourit': 4, 'bless': 7, 'excel': 10, 'spent': 7, 'forc': 4, 'iraq': 2, 'afghanistan': 2, 'stabl': 2, 'honest': 2, 'travel': 5, 'light': 14, 'turn': 12, 'green': 5, 'meant': 11, 'anoth': 30, 'worth': 5, 'lk': 3, 'tt': 6, 'yogasana': 4, 'princess': 25, 'ador': 5, 'ahmad': 5, 'kiss': 29, 'pose': 2, 'comb': 2, 'hair': 19, 'dryer': 2, 'rubber': 2, 'didnt': 23, 'bike': 2, 'shop': 29, 'distract': 3, 'isaiah': 2, 'suggest': 5, 'land': 2, 'forgt': 2, 'previou': 3, 'ikea': 2, 'spell': 5, 'cap': 2, 'yell': 3, 'sit': 15, 'among': 2, 'mess': 3, 'came': 21, 'bullshit': 2, 'cer': 2, 'ave': 4, 'often': 4, 'american': 4, 'custom': 10, 'sens': 8, 'btw': 5, 'difficult': 8, 'smoke': 21, 'batch': 3, 'yun': 5, 'wkg': 4, 'nu': 3, 'sc': 2, 'specialis': 3, 'wad': 2, 'billion': 3, 'maggi': 2, 'mee': 2, 'mad': 5, 'cash': 13, 'announc': 2, 'blog': 3, 'yesterday': 16, 'tuition': 6, 'grinder': 2, 'film': 8, 'strongli': 2, 'sacrific': 3, 'beg': 4, 'clear': 6, 'expect': 8, 'stifl': 2, 'trade': 3, 'arul': 2, 'narcot': 2, 'ugh': 12, 'warm': 9, 'team': 2, 'player': 9, 'wendi': 2, 'dehydr': 3, 'via': 10, 'fullonsm': 7, 'com': 16, 'piti': 2, 'mood': 8, 'simpl': 13, 'tooo': 2, 'nte': 2, 'tampa': 10, 'prefer': 8, 'kegger': 3, 'companion': 2, 'chef': 2, 'organ': 2, 'boyfriend': 3, 'clean': 13, 'sympathet': 2, 'athlet': 2, 'courag': 4, 'determin': 3, 'intellig': 5, 'psychologist': 2, 'pest': 2, 'extermin': 2, 'psychiatrist': 2, 'healer': 2, 'stylist': 2, 'driver': 2, 'aaniy': 2, 'pudunga': 2, 'venaam': 2, 'tot': 18, 'march': 11, 'capit': 2, 'ladi': 7, 'gettin': 8, 'rdi': 2, 'ship': 7, 'comp': 3, 'passabl': 2, 'high': 4, 'score': 4, 'appli': 4, 'phd': 2, 'salari': 6, 'easier': 4, 'noth': 28, 'spl': 5, 'whr': 3, 'accept': 10, 'clo': 4, 'lvblefrnd': 4, 'jstfrnd': 4, 'cutefrnd': 4, 'lifpartnr': 4, 'belovd': 4, 'swtheart': 4, 'bstfrnd': 4, 'rpli': 6, 'enemi': 6, 'lib': 3, 'yet': 38, 'crowd': 2, 'advic': 5, 'cardiff': 4, 'key': 7, 'window': 5, 'oppos': 2, 'drunken': 3, 'wi': 2, 'nz': 2, 'unsold': 4, 'recharg': 4, 'gentl': 5, 'appt': 5, 'shame': 4, 'quizz': 2, 'popcorn': 2, 'gep': 2, 'bu': 24, 'exactli': 7, 'chechi': 3, 'abl': 22, 'friday': 14, 'pongal': 5, 'news': 9, 'ahead': 7, 'pooja': 2, 'full': 16, 'pimpl': 3, 'becom': 7, 'black': 7, 'sweatter': 2, 'ffffuuuuuuu': 2, 'menu': 7, 'argh': 3, 'nobodi': 8, 'uniform': 2, 'round': 5, 'sudden': 2, 'influx': 2, 'nw': 6, 'okay': 18, 'expert': 2, 'water': 9, 'befor': 4, 'sapna': 2, 'maneg': 2, 'hogidh': 2, 'chinnu': 2, 'weak': 7, 'swalpa': 2, 'agidhan': 2, 'reg': 2, 'pract': 2, 'flung': 2, 'advanc': 7, 'dumb': 3, 'gumbi': 2, 'special': 27, 'chees': 2, 'pizza': 8, 'chang': 29, 'valentin': 14, 'huh': 17, 'proof': 4, 'fb': 4, 'page': 8, 'glad': 6, 'rupaul': 2, 'tool': 3, 'din': 7, 'stripe': 2, 'skirt': 2, 'fuckin': 4, 'pre': 2, 'cancel': 6, 'sack': 3, 'lightli': 2, 'checkbox': 2, 'hardcor': 2, 'matric': 2, 'wif': 22, 'gift': 8, 'bird': 6, 'human': 2, 'natur': 7, 'frm': 13, 'drop': 19, 'site': 6, 'simul': 2, 'tough': 6, 'almost': 11, 'fat': 8, 'suntec': 3, 'howz': 7, 'rang': 6, 'ello': 2, 'meat': 2, 'suprem': 2, 'china': 4, 'noisi': 2, 'stage': 2, 'destin': 2, 'swan': 2, 'drink': 21, 'siva': 3, 'hostel': 6, 'aid': 3, 'patent': 2, 'textin': 2, 'flatter': 2, 'pint': 2, 'carlin': 2, 'ten': 11, 'steak': 2, 'ticket': 11, 'hr': 17, 'scenario': 2, 'ball': 2, 'transfer': 5, 'nationwid': 2, 'auto': 3, 'newport': 2, 'alright': 19, 'dress': 5, 'panti': 2, 'confer': 2, 'there': 3, 'tmrw': 3, 'nvm': 4, 'gobi': 2, 'colleg': 15, 'tyler': 5, 'buzi': 3, 'damn': 6, 'christma': 8, 'mp': 3, 'tension': 3, 'machi': 2, 'shall': 24, 'pouch': 3, 'aathi': 5, 'lectur': 5, 'fanci': 7, 'famou': 2, 'quot': 3, 'develop': 5, 'abil': 3, 'uncondit': 2, 'temper': 2, 'self': 7, 'confid': 5, 'heat': 2, 'oil': 2, 'kano': 5, 'maga': 3, 'gimm': 3, 'lip': 4, 'caveboy': 2, 'opinion': 7, 'jada': 4, 'kusruthi': 4, 'silent': 9, 'charact': 5, 'stylish': 5, 'er': 6, 'mw': 2, 'fill': 11, 'tuth': 2, 'bruce': 3, 'fowler': 2, 'stori': 17, 'california': 4, 'manag': 8, 'neft': 3, 'transact': 5, 'refer': 5, 'rs': 16, 'credit': 9, 'beneficiari': 3, 'account': 21, 'madam': 3, 'regret': 4, 'disturb': 13, 'dlf': 2, 'premarica': 2, 'kindli': 2, 'rgd': 2, 'rakhesh': 11, 'kerala': 6, 'tuesday': 8, 'law': 7, 'abiola': 11, 'wnt': 6, 'bmw': 3, 'urgent': 9, 'vri': 5, 'hv': 4, 'shortag': 3, 'lac': 6, 'sourc': 4, 'arng': 3, 'amt': 5, 'freaki': 2, 'hourish': 2, 'tex': 2, 'mecaus': 2, 'werebor': 2, 'okden': 2, 'hunni': 5, 'uin': 2, 'likeyour': 2, 'havin': 3, 'j': 5, 'updat': 5, 'countinlot': 2, 'lovem': 3, 'xxxxx': 2, 'ummmmmaah': 3, 'return': 14, 'ure': 5, 'anand': 2, 'grin': 12, 'alibi': 2, 'luck': 7, 'fortun': 2, 'cannot': 5, 'messi': 3, 'cope': 2, 'distanc': 4, 'connect': 7, 'refund': 2, 'helen': 3, 'princ': 4, 'tb': 4, 'lifei': 2, 'daywith': 2, 'somewheresomeon': 2, 'tosend': 2, 'greet': 6, 'mini': 3, 'choos': 7, 'contact': 12, 'red': 9, 'purpl': 2, 'hot': 8, 'pink': 3, 'swt': 6, 'orang': 3, 'thnk': 5, 'lyk': 3, 'yelow': 2, 'bck': 3, 'jealou': 4, 'brown': 2, 'giv': 3, 'color': 2, 'birla': 3, 'soft': 3, 'made': 21, 'eta': 3, 'taunton': 4, 'okday': 2, 'calicut': 3, 'dled': 2, 'imp': 3, 'urself': 9, 'sunni': 5, 'africa': 2, 'avin': 2, 'silver': 3, 'packag': 4, 'program': 2, 'cheat': 3, 'mrw': 5, 'ninish': 2, 'icki': 2, 'freek': 2, 'jen': 3, 'eh': 10, 'profil': 3, 'langport': 2, 'suck': 7, 'sri': 5, 'lanka': 2, 'tire': 12, 'social': 6, 'servic': 6, 'inspect': 2, 'nurseri': 2, 'spk': 4, 'sn': 3, 'convert': 3, 'velusami': 2, 'birth': 3, 'facil': 2, 'classmat': 2, 'bak': 8, 'perform': 3, 'award': 2, 'calcul': 4, 'current': 6, 'period': 4, 'err': 2, 'slave': 8, 'labor': 2, 'shakara': 2, 'beggar': 2, 'wrote': 2, 'ritten': 2, 'hit': 8, 'bore': 23, 'fold': 2, 'laundri': 3, 'etc': 4, 'least': 14, 'wipro': 3, 'arrang': 4, 'fuuuuck': 2, 'sleepin': 3, 'headstart': 2, 'desper': 3, 'earlier': 14, 'rummer': 2, 'pix': 5, 'str': 3, 'si': 18, 'mm': 8, 'entir': 3, 'understood': 3, 'ho': 9, 'sky': 2, 'dark': 4, 'rain': 10, 'consid': 5, 'wall': 5, 'bunker': 2, 'peac': 4, 'guess': 27, 'matter': 6, 'pathaya': 2, 'enketa': 2, 'maraikara': 2, 'bead': 2, 'hrishi': 3, 'click': 2, 'delet': 6, 'seen': 10, 'piss': 6, 'togeth': 13, 'wasnt': 2, 'releas': 3, 'vday': 3, 'bottom': 4, 'half': 21, 'nake': 6, 'white': 5, 'underwear': 3, 'stayin': 3, 'extra': 6, 'rugbi': 2, 'ham': 5, 'offer': 10, 'approach': 3, 'shower': 13, 'eldest': 2, 'stitch': 2, 'trouser': 2, 'altern': 2, 'term': 4, 'discuss': 6, 'mother': 6, 'surya': 2, 'vijay': 5, 'pokkiri': 2, 'unlimit': 4, 'placement': 3, 'xin': 3, 'past': 7, 'hip': 4, 'hop': 6, 'jazz': 4, 'zoom': 2, 'kb': 6, 'yupz': 2, 'slot': 3, 'but': 2, 'freedom': 3, 'vs': 2, 'respons': 6, 'bare': 8, 'ad': 10, 'eighth': 2, 'bold': 9, 'ron': 5, 'ding': 2, 'tai': 2, 'feng': 2, 'reserv': 5, 'mac': 4, 'toot': 2, 'prepar': 6, 'prakesh': 2, 'random': 4, 'mentor': 2, 'percent': 2, 'peach': 2, 'cake': 8, 'tast': 4, 'lush': 3, 'minor': 2, 'crisi': 3, 'sooner': 5, 'asap': 6, 'yiju': 8, 'mr': 10, 'owl': 2, 'lick': 4, 'dislik': 3, 'onward': 3, 'obvious': 6, 'pert': 2, 'potato': 3, 'cupboard': 2, 'select': 6, 'gloucesterroad': 2, 'uup': 2, 'gauti': 2, 'sehwag': 2, 'odi': 3, 'vote': 6, 'loser': 2, 'castor': 3, 'wun': 8, 'drivin': 5, 'saturday': 9, 'thirunelvali': 2, 'tirunelvali': 3, 'net': 8, 'tackl': 2, 'carri': 4, 'meh': 10, 'num': 6, 'familiar': 2, 'scratch': 3, 'kinda': 8, 'twelv': 4, 'aah': 3, 'colour': 7, 'storm': 3, 'phne': 3, 'wt': 3, 'real': 20, 'name': 28, 'margaret': 3, 'girlfrnd': 3, 'f': 3, 'grahmbel': 3, 'invnt': 3, 'telphon': 3, 'villag': 3, 'accordingli': 2, 'que': 4, 'pase': 2, 'un': 2, 'buen': 2, 'tiempo': 2, 'tv': 23, 'heater': 3, 'degre': 2, 'sunoco': 2, 'howard': 2, 'lovin': 2, 'latest': 3, 'scroung': 2, 'ammo': 2, 'ak': 2, 'eva': 3, 'chad': 2, 'gymnast': 2, 'christian': 2, 'thout': 2, 'flash': 4, 'staff': 4, 'scienc': 4, 'edu': 2, 'sg': 2, 'phyhcmk': 2, 'pc': 3, 'appendix': 2, 'howev': 7, 'imposs': 3, 'chill': 4, 'boytoy': 14, 'teas': 9, 'ruin': 5, 'thesi': 3, 'enc': 2, 'loverboy': 6, 'goe': 19, 'sweeti': 3, 'across': 10, 'sea': 15, 'style': 9, 'rd': 8, 'st': 16, 'alex': 7, 'slowli': 11, 'blood': 11, 'miracl': 6, 'wrk': 4, 'tonit': 10, 'dabook': 2, 'decis': 6, 'checkmat': 2, 'chess': 2, 'persian': 2, 'phrase': 2, 'shah': 2, 'maat': 2, 'king': 5, 'dead': 9, 'goodmorn': 13, 'men': 7, 'forev': 7, 'prescript': 3, 'coimbator': 2, 'fren': 9, 'darren': 9, 'mmm': 5, 'merri': 8, 'stuf': 3, 'bleh': 3, 'writh': 2, 'kind': 12, 'chocol': 3, 'melt': 3, 'sunlight': 3, 'loss': 5, 'byatch': 2, 'whassup': 2, 'rude': 2, 'campu': 6, 'jst': 5, 'sleepi': 3, 'applebe': 2, 'imma': 6, 'xuhui': 4, 'till': 15, 'beer': 5, 'chase': 5, 'cross': 3, 'street': 6, 'railway': 3, 'doctor': 8, 'appi': 2, 'fizz': 2, 'contain': 2, 'cancer': 6, 'guessin': 2, 'fli': 6, 'monkey': 3, 'certainli': 3, 'sen': 5, 'yar': 10, 'jaya': 3, 'ranjith': 4, 'cal': 5, 'drpd': 3, 'deeraj': 3, 'deepak': 3, 'urgh': 2, 'coach': 2, 'smell': 3, 'chip': 3, 'duvet': 2, 'predict': 5, 'shatter': 2, 'roger': 3, 'cl': 2, 'fireplac': 2, 'icon': 2, 'deduct': 2, 'shorter': 4, 'gaze': 2, 'eye': 11, 'miwa': 2, 'jiayin': 3, 'lmao': 8, 'pleasant': 2, 'surpris': 9, 'balanc': 4, 'statement': 3, 'acc': 4, 'coupl': 11, 'empti': 11, 'wisdom': 4, 'dream': 21, 'alwi': 4, 'loud': 4, 'spontan': 2, 'goodeven': 2, 'mental': 2, 'zoe': 2, 'shitin': 2, 'il': 10, 'defo': 2, 'hardest': 2, 'morow': 2, 'million': 3, 'lekdog': 2, 'veggi': 2, 'internet': 7, 'slow': 8, 'melodi': 2, 'accid': 3, 'divert': 2, 'wadebridg': 2, 'moan': 5, 'scream': 13, 'train': 17, 'arriv': 4, 'pierr': 2, 'cardin': 2, 'normal': 8, 'sale': 6, 'point': 15, 'cheap': 7, 'splash': 2, 'wine': 9, 'french': 2, 'challeng': 4, 'raglan': 2, 'edward': 3, 'cricket': 4, 'ground': 4, 'closebi': 2, 'hui': 2, 'partnership': 3, 'lead': 5, 'abstract': 2, 'honesti': 2, 'prone': 2, 'lucki': 9, 'fetch': 5, 'cell': 6, 'stair': 2, 'seem': 13, 'phew': 2, 'broke': 6, 'amount': 6, 'sprint': 2, 'prolli': 4, 'gate': 2, 'charl': 3, 'uh': 2, 'z': 2, 'weather': 7, 'vikki': 8, 'tix': 2, 'crap': 2, 'borin': 2, 'boggi': 2, 'biatch': 2, 'cbe': 5, 'carton': 2, 'shelv': 2, 'fridg': 2, 'meal': 5, 'amma': 3, 'steer': 2, 'sdryb': 2, 'gek': 2, 'rr': 2, 'wednesday': 9, 'up': 3, 'usp': 2, 'bribe': 2, 'nipost': 2, 'ajith': 2, 'everywher': 3, 'dirt': 2, 'floor': 4, 'mouth': 3, 'flow': 4, 'chore': 2, 'exist': 2, 'hail': 2, 'mist': 2, 'olol': 2, 'print': 5, 'forum': 5, 'exact': 5, 'gpu': 3, 'replac': 5, 'ignor': 7, 'casualti': 2, 'sheet': 5, 'papa': 2, 'fffff': 2, 'kadeem': 4, 'arr': 2, 'oscar': 2, 'yahoo': 7, 'boy': 26, 'perf': 2, 'legal': 4, 'valu': 7, 'absenc': 2, 'app': 5, 'easiest': 2, 'barcelona': 2, 'fan': 3, 'smith': 2, 'gayl': 2, 'order': 8, 'saw': 21, 'wifi': 3, 'blank': 6, 'atten': 2, 'morphin': 4, 'tom': 3, 'mention': 4, 'chines': 4, 'neighbor': 3, 'balloon': 2, 'mag': 3, 'avo': 2, 'safe': 13, 'hard': 10, 'seper': 2, 'ud': 2, 'ba': 3, 'dao': 2, 'hyde': 2, 'mel': 3, 'opp': 2, 'choic': 4, 'hesit': 4, 'notebook': 2, 'hahaha': 3, 'brain': 4, 'haircut': 2, 'breezi': 2, 'hank': 2, 'lotsli': 2, 'learn': 5, 'w': 14, 'belong': 3, 'pray': 12, 'fate': 2, 'shoranur': 2, 'incid': 4, 'fuell': 2, 'concern': 3, 'prior': 2, 'grief': 2, 'chain': 2, 'women': 3, 'inch': 7, 'tight': 3, 'pussi': 6, 'firsg': 2, 'super': 4, 'nalla': 3, 'envi': 2, 'smash': 2, 'religi': 2, 'scold': 3, 'sentenc': 4, 'concentr': 5, 'educ': 4, 'career': 4, 'slice': 3, 'sick': 8, 'sari': 2, 'tim': 2, 'bollox': 2, 'tol': 2, 'hppnss': 3, 'tear': 7, 'sorrow': 3, 'forevr': 3, 'goodfriend': 3, 'vagu': 3, 'delay': 4, 'rent': 12, 'agenc': 2, 'usc': 3, 'url': 3, 'comput': 7, 'aiyah': 6, 'tok': 3, 'crucifi': 2, 'chanc': 11, 'gang': 3, 'grand': 5, 'adventur': 4, 'prop': 2, 'eatin': 7, 'execut': 4, 'shifad': 2, 'rais': 5, 'complaint': 3, 'offici': 4, 'wow': 7, 'embarass': 6, 'accomod': 2, 'cave': 2, 'tessi': 3, 'favor': 3, 'convey': 9, 'nimya': 5, 'shija': 3, 'gym': 10, 'jog': 4, 'anytim': 3, 'pendent': 2, 'oop': 9, 'kfc': 2, 'gravi': 2, 'paid': 7, 'market': 3, 'kidz': 4, 'colleagu': 8, 'sofa': 7, 'mail': 26, 'plu': 15, 'prestig': 2, 'mate': 13, 'gimmi': 2, 'goss': 2, 'apo': 3, 'mokka': 3, 'stretch': 3, 'headin': 3, 'toward': 6, 'busetop': 2, 'snatch': 2, 'purs': 3, 'owe': 3, 'tablet': 3, 'reaction': 3, 'interview': 5, 'chicken': 4, 'broth': 2, 'ramen': 2, 'bhaji': 3, 'sachin': 4, 'worc': 2, 'foreg': 2, 'shrub': 2, 'blake': 4, 'dubsack': 3, 'openin': 2, 'formal': 2, 'weight': 9, 'anythin': 3, 'doggi': 3, 'guid': 7, 'jerri': 2, 'result': 6, 'tortur': 2, 'england': 2, 'yetti': 2, 'optimist': 2, 'improv': 3, 'onion': 3, 'roast': 4, 'middl': 3, 'shd': 7, 'add': 7, 'pound': 6, 'visit': 9, 'woot': 3, 'celebr': 7, 'necessarili': 3, 'hdd': 2, 'yetund': 4, 'mid': 7, 'womdarful': 2, 'actor': 2, 'randomlli': 2, 'within': 7, 'appreci': 9, 'browsin': 2, 'compulsori': 2, 'easili': 3, 'possess': 5, 'pour': 4, 'lie': 4, 'golden': 2, 'truli': 3, 'robinson': 2, 'sac': 2, 'baaaaaaaab': 2, 'askin': 7, 'salon': 3, 'slipperi': 2, 'pap': 3, 'sugar': 5, 'troubl': 9, 'ijust': 2, 'shelf': 3, 'walmart': 4, 'unknown': 3, 'fire': 4, 'exorc': 2, 'emili': 2, 'rose': 8, 'hug': 8, 'snog': 3, 'aiyo': 7, 'mei': 2, 'fast': 11, 'workin': 7, 'bao': 2, 'sugardad': 2, 'gee': 7, 'imagin': 6, 'final': 14, 'sink': 2, 'pace': 2, 'cage': 2, 'cock': 3, 'surround': 2, 'own': 3, 'cuck': 2, 'system': 7, 'sh': 4, 'hon': 3, 'lab': 4, 'hm': 2, 'headach': 4, 'bugi': 8, 'jolt': 2, 'suzi': 2, 'fake': 2, 'reffer': 2, 'member': 3, 'link': 6, 'geti': 2, 'mmmmmmm': 2, 'snuggl': 2, 'content': 4, 'whisper': 2, 'obey': 2, 'buzzzz': 2, 'buzz': 7, 'chest': 3, 'shake': 3, 'rem': 5, 'felt': 12, 'unconsci': 3, 'adult': 3, 'behav': 2, 'abnorm': 2, 'remembr': 4, 'everytim': 2, 'missi': 2, 'pee': 3, 'tea': 8, 'bishan': 5, 'nearer': 2, 'monster': 2, 'restaur': 3, 'download': 10, 'dvd': 2, 'raji': 3, 'favour': 4, 'display': 3, 'intern': 2, 'sub': 3, 'extract': 2, 'rayan': 2, 'macleran': 2, 'steve': 2, 'rightio': 2, 'arent': 3, 'bright': 4, 'isnt': 7, 'cultur': 2, 'modul': 3, 'garbag': 3, 'jam': 2, 'bread': 3, 'hannaford': 2, 'wheat': 2, 'chex': 2, 'ax': 2, 'ese': 4, 'due': 5, 'dodgey': 2, 'recoveri': 3, 'sr': 2, 'model': 6, 'muz': 9, 'effect': 5, 'aust': 2, 'bk': 2, 'booti': 3, 'andro': 2, 'steal': 3, 'ice': 6, 'prix': 2, 'practic': 7, 'sore': 5, 'rahul': 2, 'dengra': 2, 'foreign': 4, 'stamp': 4, 'caught': 3, 'broken': 3, 'english': 6, 'innoc': 3, 'terror': 2, 'cruel': 2, 'decent': 2, 'joker': 2, 'zaher': 2, 'ym': 6, 'throw': 6, 'misbehav': 3, 'slap': 4, 'fault': 8, 'slipper': 4, 'ktv': 2, 'printer': 2, 'groovi': 3, 'silenc': 3, 'ph': 3, 'salam': 3, 'alaikkum': 2, 'pride': 3, 'pleasur': 8, 'qatar': 7, 'indian': 8, 'lay': 4, 'rock': 13, 'envelop': 5, 'amk': 2, 'brotha': 4, 'mandan': 2, 'sun': 13, 'anti': 3, 'medicin': 4, 'resum': 4, 'minimum': 3, 'reappli': 2, 'chuckin': 2, 'trainner': 2, 'carryin': 2, 'bac': 2, 'hurri': 8, 'soup': 4, 'nasti': 2, 'cough': 2, 'shot': 3, 'paragon': 2, 'financi': 2, 'repair': 3, 'ything': 2, 'weekday': 2, 'haiz': 4, 'nail': 2, 'pai': 2, 'seh': 2, 'lookin': 6, 'evapor': 2, 'privaci': 2, 'employ': 2, 'paperwork': 3, 'supervisor': 3, 'gudnit': 3, 'tc': 5, 'paranoid': 2, 'parachut': 2, 'doubl': 5, 'coin': 7, 'nokia': 4, 'lovli': 2, 'welp': 4, 'gloriou': 2, 'prey': 4, 'coax': 2, 'imag': 2, 'fond': 2, 'souveni': 2, 'cougar': 2, 'fundament': 2, 'radio': 4, 'hors': 2, 'race': 2, 'ate': 7, 'rice': 3, 'cream': 3, 'lolnic': 2, 'fish': 4, 'septemb': 2, 'cheeto': 2, 'sez': 2, 'arab': 2, 'evri': 4, 'eshxxxxxxxxxxx': 2, 'messeng': 4, 'lik': 6, 'prevent': 2, 'fluid': 2, 'renew': 2, 'finger': 8, 'gf': 2, 'cri': 7, 'grave': 3, 'cloth': 3, 'jewelri': 2, 'haiyoh': 2, 'hamster': 3, 'out': 2, 'bw': 2, 'simpli': 3, 'match': 4, 'antha': 2, 'corrct': 2, 'dane': 2, 'idiot': 3, 'girli': 2, 'lemm': 6, 'repent': 2, 'hmmm': 12, 'punish': 3, 'lakh': 2, 'apart': 9, 'sooo': 2, 'thin': 2, 'fed': 2, 'himso': 2, 'lobbi': 2, 'shhhhh': 2, 'grandma': 3, 'hungov': 2, 'donno': 3, 'gene': 2, 'upset': 2, 'prioriti': 2, 'constantli': 3, 'sathya': 3, 'dint': 5, 'singl': 6, 'shola': 2, 'academ': 3, 'depart': 3, 'secretari': 2, 'sagamu': 2, 'lautech': 2, 'vital': 2, 'medic': 9, 'expens': 7, 'citizen': 4, 'rate': 3, 'zealand': 2, 'birthdat': 3, 'partner': 2, 'method': 2, 'someday': 2, 'noic': 2, 'dollar': 6, 'loan': 6, 'februari': 5, 'taco': 3, 'inev': 2, 'weird': 4, 'oz': 4, 'shitload': 3, 'video': 3, 'pple': 4, 'infern': 4, 'affair': 5, 'along': 4, 'shuhui': 6, 'sayi': 2, 'thet': 2, 'skinni': 2, 'line': 8, 'camera': 3, 'cast': 2, 'hide': 4, 'thousand': 2, 'bitch': 5, 'group': 5, 'ryder': 2, 'gibb': 3, 'nottingham': 2, 'mile': 6, 'mph': 2, 'feb': 6, 'multipli': 2, 'independ': 3, 'count': 4, 'divis': 3, 'push': 5, 'sum': 6, 'who': 4, 'area': 5, 'yoga': 8, 'form': 4, 'suffer': 3, 'port': 2, 'step': 6, 'signific': 3, 'serv': 4, 'repeat': 3, 'instruct': 2, 'height': 5, 'aeronaut': 3, 'professor': 3, 'wer': 7, 'calld': 3, 'aeroplan': 3, 'aftr': 6, 'plane': 6, 'ws': 4, 'student': 8, 'space': 6, 'furnitur': 3, 'lock': 4, 'jenn': 2, 'major': 4, 'role': 8, 'commun': 2, 'outreach': 2, 'version': 5, 'nudist': 2, 'theme': 3, 'evn': 4, 'evr': 3, 'attach': 3, 'midnight': 3, 'poem': 2, 'fear': 2, 'ni': 8, 'hmm': 15, 'forgiven': 3, 'brought': 2, 'shini': 2, 'constant': 2, 'wondar': 2, 'flim': 2, 'teeth': 5, 'maintain': 4, 'devour': 3, 'goal': 2, 'treadmil': 2, 'craigslist': 2, 'neshanth': 2, 'spirit': 2, 'jesu': 5, 'vomit': 5, 'accident': 4, 'yck': 2, 'lotta': 3, 'corvett': 2, 'wlcome': 2, 'eaten': 4, 'lion': 3, 'shijutta': 2, 'power': 10, 'forgiv': 3, 'photoshop': 2, 'shut': 4, 'bigger': 4, 'prabha': 3, 'soryda': 3, 'sori': 3, 'fair': 3, 'oral': 2, 'fave': 3, 'posit': 3, 'geniu': 3, 'sed': 5, 'sexi': 12, 'latr': 5, 'ke': 2, 'qi': 2, 'suddenli': 2, 'imin': 2, 'dontmatt': 2, 'urgoin': 2, 'outl': 2, 'wud': 4, 'annoyin': 2, 'appl': 3, 'tulsi': 2, 'leaf': 2, 'lemon': 2, 'cup': 5, 'milk': 5, 'bone': 3, 'problm': 2, 'litr': 2, 'watr': 2, 'diseas': 2, 'snd': 2, 'fightng': 2, 'dificult': 2, 'wildlif': 2, 'worzel': 2, 'wizzl': 2, 'diet': 4, 'aluabl': 2, 'ffection': 2, 'oveabl': 2, 'ternal': 2, 'obl': 2, 'ruth': 2, 'ntimat': 2, 'atur': 2, 'namou': 2, 'beliv': 2, 'lodg': 3, 'airport': 3, 'satsgettin': 2, 'charg': 11, 'brin': 2, 'surnam': 2, 'clue': 2, 'spanish': 2, 'begin': 5, 'cab': 2, 'hor': 2, 'sec': 6, 'vava': 3, 'ryan': 3, 'misundrstud': 2, 'hate': 7, 'truth': 9, 'se': 5, 'funki': 2, 'asssssholeee': 2, 'confirm': 13, 'potenti': 2, 'talent': 3, 'oni': 5, 'kalainar': 2, 'thenampet': 2, 'ffffffffff': 2, 'dentist': 3, 'tookplac': 2, 'ghodbandar': 2, 'traffic': 3, 'slove': 2, 'slip': 3, 'buff': 4, 'wind': 3, 'ovarian': 2, 'cyst': 2, 'bc': 2, 'shrink': 2, 'grandfath': 2, 'expir': 2, 'tact': 2, 'eleph': 2, 'shove': 3, 'um': 2, 'christ': 3, 'trend': 2, 'pro': 2, 'con': 2, 'brief': 3, 'descript': 2, 'nuclear': 2, 'fusion': 2, 'histori': 4, 'iter': 2, 'jet': 2, 'ujhhhhhhh': 2, 'sandiago': 2, 'parantella': 2, 'lane': 3, 'poop': 3, 'digi': 2, 'cam': 3, 'fab': 3, 'coupla': 2, 'split': 2, 'clever': 3, 'leona': 4, 'mca': 3, 'conform': 3, 'oclock': 2, 'bash': 2, 'flat': 4, 'earn': 4, 'thanksgiv': 4, 'upcharg': 2, 'blur': 3, 'keypad': 2, 'glo': 2, 'restock': 3, 'guoyang': 2, 'armand': 4, 'importantli': 2, 'wee': 3, 'stranger': 3, 'respond': 6, 'assum': 5, 'lou': 2, 'lancast': 2, 'neway': 2, 'cld': 3, 'machan': 3, 'laid': 2, 'airtel': 3, 'attend': 5, 'taxi': 2, 'ing': 3, 'www': 2, 'flip': 2, 'youdo': 2, 'sar': 2, 'authoris': 2, 'payment': 3, 'walik': 2, 'shout': 4, 'ambrith': 2, 'madurai': 2, 'arun': 4, 'dha': 2, 'marrg': 2, 'plumber': 2, 'wrench': 3, 'borrow': 3, 'sane': 2, 'iron': 2, 'gandhipuram': 2, 'side': 11, 'oga': 2, 'dare': 4, 'ps': 3, 'grown': 2, 'so': 2, 'mountain': 2, 'deer': 2, 'obedi': 2, 'queen': 5, 'tunji': 2, 'hang': 5, 'thread': 3, 'darker': 2, 'tlk': 3, 'slide': 2, 'spend': 11, 'vewi': 3, 'lubli': 2, 'chief': 2, 'bell': 4, 'royal': 3, 'june': 4, 'total': 6, 'reject': 2, 'privat': 2, 'properti': 3, 'passion': 4, 'quarter': 2, 'batteri': 7, 'low': 4, 'spoil': 4, 'depress': 3, 'sittin': 2, 'scari': 2, 'gd': 11, 'drm': 2, 'shesil': 3, 'remain': 6, 'amongst': 2, 'crab': 4, 'shore': 2, 'wave': 3, 'footprint': 4, 'fox': 2, 'follow': 4, 'frndsship': 2, 'dwn': 2, 'hassl': 2, 'andr': 2, 'haughaighgtujhyguj': 2, 'orh': 2, 'mt': 3, 'pete': 9, 'thursday': 6, 'ma': 5, 'kz': 3, 'sura': 6, 'given': 3, 'ultimatum': 3, 'countin': 3, 'aburo': 3, 'leg': 4, 'neck': 2, 'amigo': 2, 'wherear': 2, 'friendsar': 2, 'thekingshead': 2, 'canlov': 2, 'clover': 2, 'enufcredeit': 2, 'tocal': 2, 'ileav': 2, 'uni': 5, 'yor': 3, 'channel': 2, 'ton': 2, 'paypal': 2, 'voila': 2, 'pocket': 2, 'fyi': 6, 'whenev': 8, 'creepi': 3, 'crazi': 10, 'gist': 3, 'except': 6, 'chick': 2, 'boob': 2, 'aaooooright': 2, 'jap': 2, 'shoe': 2, 'dirti': 3, 'fellow': 2, 'graviti': 4, 'bun': 6, 'lil': 4, 'zero': 2, 'geeeee': 3, 'guilti': 3, 'fifteen': 4, 'rape': 2, 'poker': 3, 'island': 4, 'curri': 2, 'burden': 2, 'jd': 3, 'abj': 3, 'cramp': 4, 'permiss': 3, 'lotr': 2, 'appoint': 5, 'norm': 2, 'access': 3, 'poorli': 2, 'worst': 3, 'brb': 2, 'slp': 3, 'muah': 3, 'billi': 2, 'concert': 3, 'wherr': 2, 'yuou': 2, 'spot': 2, 'tank': 3, 'stress': 5, 'cuz': 7, 'tog': 4, 'syria': 2, 'canada': 2, 'enter': 9, 'cabin': 5, 'boss': 8, 'jean': 3, 'swatch': 3, 'feet': 2, 'ow': 2, 'thousad': 2, 'login': 3, 'shant': 2, 'jia': 3, 'poor': 10, 'urfeel': 2, 'bettersn': 2, 'probthat': 2, 'overdos': 2, 'lovejen': 2, 'jacket': 3, 'responc': 4, 'happend': 5, 'hospit': 10, 'data': 2, 'analysi': 2, 'bookedth': 2, 'hut': 2, 'aptitud': 2, 'effici': 2, 'mmmm': 4, 'semiobscur': 2, 'thankyou': 2, 'bpo': 2, 'aww': 3, 'nearli': 3, 'jez': 2, 'iscom': 2, 'todo': 2, 'workand': 2, 'whilltak': 2, 'suppli': 2, 'box': 3, 'shock': 3, 'hypertens': 2, 'sing': 5, 'intrud': 2, 'anythi': 2, 'okey': 3, 'dokey': 3, 'swashbuckl': 2, 'evey': 2, 'mnth': 2, 'switch': 2, 'reliev': 2, 'westonzoyland': 2, 'yah': 2, 'ape': 2, 'death': 4, 'stu': 2, 'trubl': 2, 'evon': 2, 'av': 2, 'boston': 6, 'nyc': 5, 'drama': 2, 'struggl': 2, 'strang': 2, 'ego': 2, 'necess': 2, 'seriou': 6, 'reppurcuss': 2, 'newspap': 2, 'featheri': 2, 'bowa': 2, 'rajini': 2, 'mummi': 2, 'posibl': 2, 'centuri': 2, 'cm': 2, 'frwd': 2, 'superior': 2, 'wahe': 3, 'fathima': 3, 'stil': 2, 'tobe': 2, 'reckon': 2, 'eightish': 2, 'carpark': 2, 'meaning': 2, 'compromis': 2, 'wet': 3, 'cousin': 3, 'heaven': 2, 'creep': 3, 'surgic': 2, 'emerg': 3, 'unfold': 2, 'scrape': 2, 'barrel': 2, 'misfit': 2, 'riley': 2, 'approv': 3, 'panalam': 2, 'futur': 3, 'yowif': 2, 'hint': 4, 'tram': 2, 'vic': 2, 'hotel': 6, 'toshiba': 3, 'porteg': 2, 'combin': 3, 'arestaur': 2, 'squid': 2, 'dosometh': 2, 'disconnect': 4, 'eight': 4, 'station': 4, 'morro': 2, 'flood': 2, 'chiong': 2, 'mega': 3, 'asda': 2, 'bimbo': 2, 'ugo': 2, 'tellmiss': 2, 'lara': 2, 'portal': 2, 'explain': 4, 'contribut': 2, 'greatli': 2, 'closer': 3, 'soire': 2, 'sim': 6, 'lim': 2, 'evalu': 2, 'rather': 6, 'salmon': 2, 'sonathaya': 2, 'soladha': 2, 'baaaaab': 2, 'misss': 2, 'youuuuu': 2, 'edison': 3, 'rightli': 3, 'wise': 4, 'speechless': 4, 'viva': 3, 'websit': 4, 'magicalsong': 2, 'blogspot': 2, 'dog': 4, 'dai': 3, 'naal': 2, 'eruku': 2, 'iouri': 4, 'wyli': 5, 'sip': 3, 'cappuccino': 3, 'nichol': 2, 'rule': 4, 'bend': 2, 'thia': 2, 'inlud': 2, 'preview': 2, 'thasa': 2, 'yeh': 4, 'notic': 3, 'inconsider': 3, 'nag': 3, 'recess': 3, 'henc': 3, 'delhi': 3, 'urin': 2, 'countri': 4, 'univers': 4, 'florida': 2, 'holla': 6, 'revis': 2, 'fran': 3, 'boyf': 2, 'interviw': 2, 'exet': 3, 'q': 3, 'twat': 2, 'dungere': 2, 'deck': 2, 'punch': 2, 'sunroof': 2, 'sux': 3, 'garment': 2, 'jack': 2, 'pretend': 2, 'hypotheticalhuagauahahuagahyuhagga': 2, 'shld': 2, 'danger': 2, 'peep': 2, 'comment': 2, 'boooo': 2, 'cp': 2, 'outag': 3, 'conserv': 2, 'fever': 4, 'dysentri': 2, 'dough': 2, 'control': 3, 'forfeit': 2, 'imprtant': 2, 'tomorw': 2, 'monthli': 3, 'theyr': 2, 'twenti': 3, 'five': 3, 'durham': 2, 'seat': 4, 'convinc': 4, 'twice': 5, 'neglect': 2, 'theoret': 2, 'rush': 6, 'initi': 2, 'nightnight': 2, 'cruis': 2, 'purchas': 2, 'tap': 3, 'spile': 3, 'seven': 4, 'broad': 3, 'canal': 3, 'lamp': 2, 'onluy': 2, 'offcampu': 2, 'onam': 2, 'sirji': 2, 'insur': 8, 'insha': 4, 'allah': 6, 'tata': 2, 'aig': 2, 'tissco': 3, 'tayseer': 3, 'swoop': 3, 'electr': 2, 'hen': 2, 'earliest': 2, 'doinat': 2, 'nimbomson': 2, 'tobacco': 2, 'avatar': 4, 'subtoitl': 2, 'tabl': 4, 'lambda': 2, 'butt': 4, 'tue': 3, 'contin': 2, 'ttyl': 5, 'topic': 3, 'chinatown': 2, 'porridg': 2, 'claypot': 2, 'yam': 2, 'fishhead': 2, 'beehoon': 2, 'nydc': 3, 'nowaday': 2, 'showroom': 2, 'citi': 3, 'shape': 2, 'lov': 3, 'daddi': 6, 'cudnt': 2, 'drove': 2, 'ctla': 2, 'cochin': 2, 'ent': 2, 'ishtamayoo': 2, 'bakrid': 2, 'pixel': 2, 'optic': 2, 'digit': 2, 'doom': 2, 'ditto': 2, 'gran': 2, 'onlyfound': 2, 'afew': 2, 'cusoon': 2, 'honi': 2, 'gota': 2, 'coat': 3, 'astrolog': 2, 'quick': 5, 'inner': 2, 'tigress': 2, 'apolog': 3, 'shade': 2, 'jide': 2, 'srsli': 2, 'yi': 2, 'kay': 2, 'mistak': 5, 'textbook': 2, 'algorithm': 2, 'edit': 2, 'meatbal': 2, 'pan': 3, 'perhap': 2, 'silli': 2, 'cat': 3, 'xam': 3, 'answr': 2, 'abeg': 2, 'profit': 2, 'sponsor': 2, 'event': 2, 'gener': 5, 'musta': 2, 'overdid': 2, 'dhanush': 2, 'unfortun': 3, 'giggl': 2, 'nvq': 2, 'bloo': 4, 'bowl': 4, 'ceri': 2, 'rebel': 2, 'dreamz': 2, 'buddi': 2, 'bloke': 4, 'hidden': 2, 'solihul': 2, 'philosophi': 3, 'consist': 2, 'practicum': 2, 'ear': 2, 'cstore': 2, 'button': 2, 'rimac': 2, 'swimsuit': 2, 'allow': 5, 'recent': 4, 'downstem': 2, 'loooooool': 2, 'couch': 2, 'snake': 4, 'raiden': 2, 'crickit': 2, 'flake': 3, 'steam': 2, 'ft': 2, 'dock': 2, 'boat': 4, 'roll': 2, 'newscast': 2, 'dabbl': 2, 'flute': 2, 'wheel': 2, 'senthil': 4, 'hsbc': 3, 'sabarish': 2, 'teresa': 2, 'dec': 2, 'thot': 3, 'ld': 2, 'fantast': 4, 'bam': 2, 'usml': 2, 'nighter': 2, 'persev': 2, 'apologis': 4, 'juan': 3, 'present': 7, 'nicki': 2, 'harri': 2, 'lyric': 2, 'wahleykkum': 2, 'grace': 3, 'inshah': 3, 'visitor': 3, 'li': 2, 'hai': 7, 'consensu': 2, 'piec': 4, 'goodnoon': 3, 'knee': 3, 'expos': 2, 'pull': 4, 'wick': 2, 'settl': 9, 'bridgwat': 2, 'banter': 2, 'shoul': 2, 'brand': 3, 'flurri': 2, 'eek': 3, 'born': 4, 'takin': 3, 'linear': 2, 'algebra': 2, 'clearli': 3, 'selfish': 3, 'signal': 2, 'neither': 3, 'unusu': 2, 'antibiot': 2, 'abdomen': 2, 'gyna': 2, 'infect': 3, 'file': 4, 'format': 2, 'disc': 2, 'murali': 2, 'upon': 2, 'uniqu': 3, 'deserv': 2, 'freez': 4, 'windi': 2, 'dr': 3, 'kaiez': 2, 'option': 3, 'beta': 2, 'pump': 2, 'petrol': 4, 'pie': 3, 'motiv': 4, 'shine': 2, 'salad': 2, 'desert': 3, 'joanna': 2, 'hooch': 2, 'toaday': 2, 'fell': 3, 'splat': 2, 'graze': 2, 'when': 2, 'daili': 3, 'allday': 2, 'appeal': 2, 'thriller': 2, 'director': 3, 'genu': 2, 'mmmmm': 3, 'sooooo': 3, 'sd': 2, 'chequ': 2, 'brolli': 2, 'franxx': 2, 'limp': 2, 'aa': 2, 'exhaust': 5, 'sarcast': 2, 'faggi': 3, 'del': 2, 'lucyxx': 2, 'calm': 2, 'reassur': 2, 'nosi': 2, 'react': 2, 'freak': 5, 'relax': 8, 'hall': 2, 'intha': 2, 'ponnungal': 2, 'ipaditan': 2, 'taught': 2, 'becau': 2, 'he': 3, 'verifi': 4, 'prabu': 2, 'cliff': 2, 'reveal': 2, 'missunderstd': 2, 'belov': 3, 'useless': 2, 'disappear': 2, 'enuff': 2, 'endow': 2, 'japanes': 2, 'proverb': 2, 'none': 7, 'strike': 3, 'prasanth': 2, 'ettan': 2, 'coulda': 2, 'squeez': 2, 'ny': 2, 'ashwini': 2, 'en': 2, 'nang': 2, 'bakra': 2, 'kalstiya': 2, 'mostli': 2, 'sport': 2, 'footbl': 2, 'crckt': 2, 'archiv': 2, 'reboot': 4, 'ic': 3, 'childporn': 2, 'offens': 2, 'geva': 3, 'nap': 2, 'kappa': 2, 'upstair': 3, 'hectic': 2, 'sever': 3, 'workout': 2, 'mornin': 2, 'thanku': 2, 'complac': 2, 'zhong': 2, 'qing': 2, 'ne': 4, 'wknd': 2, 'nri': 2, 'epi': 2, 'grr': 2, 'pharmaci': 2, 'eachoth': 2, 'cheaper': 3, 'machin': 2, 'thu': 2, 'weigh': 3, 'discount': 3, 'audit': 3, 'engag': 2, 'fixd': 2, 'njan': 2, 'vilikkam': 2, 'sudn': 2, 'alter': 2, 'po': 2, 'rumour': 2, 'vomitin': 2, 'perfect': 3, 'jp': 2, 'mofo': 2, 'wrking': 2, 'simpler': 3, 'magic': 5, 'epsilon': 2, 'ray': 4, 'bay': 3, 'coco': 2, 'pock': 2, 'soo': 2, 'morrow': 3, 'drunk': 3, 'motherfuck': 2, 'shun': 2, 'bian': 2, 'glass': 2, 'exhibit': 2, 'fumbl': 2, 'dual': 2, 'wahala': 2, 'starv': 3, 'resiz': 2, 'seventeen': 2, 'hundr': 2, 'ml': 3, 'retard': 2, 'wenev': 2, 'intend': 2, 'iwa': 2, 'marin': 2, 'itri': 2, 'urmom': 2, 'careabout': 2, 'sankranti': 2, 'republ': 2, 'shivratri': 2, 'ugadi': 2, 'teacher': 4, 'ganesh': 3, 'festiv': 2, 'dasara': 2, 'diwali': 3, 'rememberi': 2, 'raj': 3, 'increas': 2, 'taken': 5, 'tomarrow': 3, 'wahay': 2, 'webpag': 2, 'geeee': 4, 'sao': 2, 'garag': 3, 'bookshelf': 2, 'ned': 2, 'toa': 3, 'payoh': 3, 'dealer': 3, 'impati': 3, 'jason': 4, 'ortxt': 2, 'dramat': 2, 'appar': 4, 'anni': 3, 'stone': 5, 'audiit': 2, 'reloc': 2, 'rat': 2, 'wishlist': 2, 'section': 2, 'ppl': 4, 'nitro': 4, 'spageddi': 2, 'april': 4, 'piggi': 2, 'moji': 4, 'rich': 3, 'browni': 2, 'stubborn': 2, 'kept': 3, 'sucker': 3, 'woould': 2, 'ahhh': 2, 'scotland': 2, 'trash': 2, 'unabl': 2, 'steyn': 2, 'wicket': 2, 'mesag': 3, 'ar': 8, 'sweetheart': 3, 'biola': 3, 'starshin': 2, 'elain': 3, 'sitter': 2, 'kaitlyn': 2, 'coveragd': 2, 'vasai': 2, 'fwiw': 2, 'afford': 2, 'clarifi': 2, 'prepon': 2, 'blimey': 2, 'exercis': 2, 'typic': 2, 'jurong': 2, 'buffet': 3, 'amor': 2, 'philosoph': 2, 'hole': 2, 'praveesh': 2, 'delici': 2, 'west': 3, 'coast': 2, 'tag': 3, 'bra': 2, 'strewn': 2, 'pillow': 2, 'priest': 2, 'helloooo': 2, 'bawl': 2, 'failur': 2, 'arithmet': 2, 'percentag': 2, 'progress': 2, 'continu': 3, 'mushi': 2, 'embarrass': 2, 'qet': 2, 'lunsford': 2, 'beerag': 2, 'prometazin': 2, 'syrup': 2, 'feed': 2, 'msn': 3, 'jokin': 3, 'funer': 3, 'audrey': 3, 'nver': 2, 'occupi': 4, 'biggest': 2, 'clark': 2, 'huai': 2, 'sync': 2, 'shangela': 2, 'transfr': 4, 'strong': 4, 'ovul': 3, 'fret': 2, 'dine': 3, 'lennon': 2, 'tm': 6, 'shortli': 2, 'juici': 4, 'thinl': 2, 'treasur': 2, 'ibor': 2, 'brisk': 2, 'dearli': 3, 'collaps': 2, 'resolut': 2, 'frank': 2, 'teju': 2, 'field': 3, 'administr': 3, 'fit': 2, 'dip': 2, 'def': 2, 'passport': 2, 'jon': 2, 'bin': 4, 'spain': 2, 'dinero': 2, 'pe': 2, 'jame': 3, 'shoppin': 3, 'belliger': 2, 'frndship': 4, 'skye': 2, 'acknowledg': 2, 'astoundingli': 2, 'tactless': 2, 'demand': 2, 'oath': 2, 'fo': 3, 'diaper': 2, 'vega': 3, 'cha': 3, 'quiteamuz': 2, 'scool': 2, 'taylor': 4, 'mous': 2, 'desk': 2, 'priscilla': 2, 'radiat': 2, 'ndship': 2, 'needl': 2, 'itz': 4, 'conect': 2, 'sticki': 2, 'gosh': 2, 'spose': 2, 'gotten': 2, 'begun': 2, 'registr': 2, 'perman': 2, 'resid': 2, 'foot': 2, 'peni': 2, 'honeymoon': 2, 'outfit': 2, 'whore': 2, 'unbeliev': 3, 'gei': 2, 'tron': 2, 'dl': 2, 'flirt': 5, 'bluff': 3, 'woodland': 2, 'avenu': 2, 'parish': 2, 'magazin': 2, 'telephon': 3, 'slaaaaav': 2, 'summon': 2, 'note': 5, 'iz': 5, 'attempt': 3, 'terrorist': 3, 'confirmd': 3, 'motorola': 3, 'cnn': 3, 'ibn': 3, 'swiss': 3, 'crore': 3, 'deposit': 3, 'taxless': 2, 'supli': 2, 'imf': 2, 'block': 2, 'politician': 3, 'corrupt': 2, 'itna': 2, 'karo': 2, 'ki': 2, 'pura': 2, 'padh': 2, 'bye': 5, 'logoff': 2, 'fp': 2, 'soooo': 2, 'provid': 2, 'tming': 2, 'postpon': 2, 'vivek': 3, 'risk': 3, 'sensibl': 2, 'stereo': 2, 'mi': 2, 'album': 4, 'faith': 2, 'harder': 2, 'nbme': 2, 'nigh': 2, 'london': 2, 'treatin': 2, 'treacl': 2, 'memor': 2, 'chillin': 4, 'compliment': 2, 'leo': 2, 'sq': 2, 'diamond': 4, 'mint': 2, 'xxxx': 3, 'jackson': 2, 'rec': 2, 'center': 2, 'torrent': 2, 'particularli': 2, 'moon': 5, 'dull': 2, 'woken': 2, 'whatsup': 3, 'length': 3, 'behalf': 2, 'stun': 2, 'alian': 2, 'slightli': 2, 'disastr': 2, 'fav': 2, 'wld': 3, 'arm': 4, 'nervou': 3, 'rhode': 2, 'bong': 2, 'pair': 2, 'malarki': 2, 'mittelschmertz': 2, 'paracetamol': 2, 'hype': 2, 'plaza': 2, 'studio': 2, 'bedrm': 3, 'batt': 2, 'eng': 2, 'ash': 2, 'panic': 3, 'fifth': 2, 'woozl': 2, 'weasel': 3, 'perpetu': 2, 'dd': 2, 'lul': 2, 'gossip': 2, 'nurs': 2, 'she': 2, 'obes': 2, 'oyea': 2, 'jeremiah': 2, 'creat': 5, 'gap': 8, 'btwn': 2, 'dresser': 3, 'daaaaa': 2, 'jabo': 2, 'abi': 4, 'burger': 2, 'yellow': 2, 'misscal': 2, 'frndz': 2, 'despar': 3, 'describ': 2, 'sday': 2, 'recycl': 2, 'answerin': 2, 'brat': 2, 'elsewher': 3, 'dessert': 2, 'asu': 2, 'randomli': 2, 'reformat': 2, 'lambu': 2, 'ji': 2, 'batchlor': 2, 'senor': 2, 'hangin': 2, 'makin': 2, 'hero': 2, 'apt': 2, 'opportun': 5, 'em': 4, 'someplac': 2, 'clarif': 2, 'amaz': 3, 'rearrang': 2, 'dormitori': 2, 'astronom': 2, 'starer': 2, 'elect': 2, 'recount': 2, 'woman': 4, 'hitler': 2, 'eleven': 2, 'somerset': 2, 'unconvinc': 2, 'elabor': 3, 'willpow': 2, 'wikipedia': 2, 'apnt': 2, 'followin': 2, 'ecstasi': 2, 'saibaba': 2, 'colani': 2, 'ericsson': 2, 'truro': 2, 'ext': 2, 'mylif': 2, 'sian': 3, 'shb': 2, 'limit': 5, 'boundari': 2, 'endless': 2, 'absolutli': 2, 'recognis': 2, 'design': 2, 'goodo': 2, 'ratio': 2, 'tortilla': 3, 'spice': 2, 'afternon': 2, 'gain': 3, 'kg': 2, 'pressur': 2, 'uawak': 2, 'feellikw': 2, 'justfound': 2, 'alett': 2, 'thatmum': 2, 'gotmarri': 2, 'thnov': 2, 'ourback': 2, 'fuckinnic': 2, 'anywher': 3, 'hunt': 3, 'rel': 3, 'deliv': 6, 'benefit': 2, 'gonnamissu': 2, 'postcard': 3, 'butther': 2, 'abouta': 2, 'merememberin': 2, 'asther': 2, 'ofsi': 2, 'breakin': 2, 'yaxx': 2, 'rob': 2, 'aveng': 2, 'lanr': 2, 'fakey': 2, 'eckankar': 2, 'nose': 2, 'essay': 2, 'math': 4, 'christmassi': 2, 'seeker': 2, 'habba': 2, 'beverag': 2, 'pist': 2, 'ingredi': 2, 'process': 8, 'maaaan': 2, 'ashley': 3, 'ay': 2, 'coher': 2, 'lousi': 2, 'tour': 4, 'curiou': 2, 'ip': 2, 'minecraft': 2, 'server': 2, 'toughest': 2, 'earth': 6, 'sake': 2, 'error': 3, 'difficulti': 3, 'smart': 3, 'await': 2, 'northampton': 2, 'afraid': 2, 'skyve': 2, 'comedi': 4, 'club': 2, 'infront': 3, 'decad': 2, 'gover': 2, 'safeti': 2, 'aspect': 2, 'soul': 3, 'spark': 2, 'flame': 3, 'rawr': 2, 'xoxo': 2, 'haunt': 2, 'promot': 2, 'hex': 2, 'bridg': 2, 'lager': 2, 'outstand': 4, 'invoic': 2, 'three': 3, 'knacker': 3, 'janx': 2, 'spreadsheet': 2, 'track': 5, 'whose': 2, 'bot': 2, 'asa': 2, 'nacho': 2, 'champ': 2, 'glasgow': 2, 'puriti': 4, 'inconveni': 2, 'kvb': 2, 'my': 2, 'velacheri': 2, 'charm': 2, 'sight': 6, 'nosh': 2, 'shanil': 2, 'exchang': 2, 'uncut': 2, 'dino': 2, 'prem': 2, 'cali': 3, 'weddin': 2, 'sender': 3, 'stabil': 2, 'tranquil': 2, 'vibrant': 2, 'hillsborough': 2, 'court': 2, 'lavend': 2, 'resub': 2, 'mapquest': 2, 'dogwood': 2, 'maangalyam': 3, 'alaipayuth': 3, 'chapter': 2, 'bathroom': 2, 'tiim': 2, 'hustl': 2, 'forth': 2, 'season': 2, 'harlem': 2, 'propsd': 2, 'gv': 2, 'lv': 2, 'lttr': 2, 'threw': 2, 'thm': 3, 'aproach': 2, 'dt': 2, 'truck': 2, 'instantli': 2, 'thi': 2, 'happili': 2, 'gthr': 2, 'evrydi': 2, 'tote': 2, 'jade': 2, 'paul': 2, 'barm': 2, 'loosu': 2, 'careless': 2, 'wishin': 3, 'virtual': 2, 'cloud': 2, 'river': 3, 'bluray': 2, 'drugdeal': 2, 'fujitsu': 3, 'lifebook': 2, 'twin': 2, 'western': 2, 'shu': 3, 'singapor': 2, 'escal': 2, 'gam': 2, 'exe': 2, 'beneath': 3, 'pale': 3, 'goodnit': 3, 'brah': 2, 'thgt': 3, 'varunnathu': 2, 'edukkukaye': 2, 'raksha': 2, 'ollu': 2, 'dhoni': 3, 'wate': 3, 'whenevr': 3, 'gray': 2, 'listn': 2, 'watevr': 2, 'dick': 2, 'wuld': 3, 'mite': 5, 'everyboy': 2, 'xxxxxxxx': 2, 'accumul': 2, 'swollen': 2, 'gland': 2, 'throat': 4, 'sheffield': 3, 'categori': 2, 'ethnic': 2, 'censu': 2, 'transcrib': 2, 'southern': 2, 'dizzamn': 2, 'suitem': 2, 'ubi': 4, 'iren': 2, 'ere': 2, 'cre': 2, 'tech': 3, 'ystrday': 2, 'smeon': 2, 'duck': 2, 'chinchilla': 2, 'sleepwel': 2, 'ew': 2, 'versu': 2, 'goigng': 2, 'perfum': 2, 'toss': 2, 'gudni': 2, 'khelat': 2, 'kintu': 2, 'opponent': 2, 'dhort': 2, 'lage': 2, 'waqt': 2, 'pehl': 2, 'naseeb': 2, 'zyada': 2, 'kisi': 2, 'ko': 2, 'kuch': 2, 'nahi': 3, 'milta': 2, 'zindgi': 3, 'wo': 3, 'jo': 4, 'hum': 2, 'socht': 2, 'jeetey': 2, 'anthoni': 2, 'fne': 2, 'onword': 2, 'mtnl': 2, 'mumbai': 2, 'greatest': 3, 'bear': 3, 'defeat': 3, 'ummifi': 2, 'flew': 2, 'prospect': 2, 'bleak': 2, 'footi': 2, 'blow': 3, 'phil': 2, 'nevil': 2, 'pocay': 2, 'wocay': 2, 'morrowxxxx': 2, 'skint': 2, 'bevi': 2, 'waz': 2, 'gona': 3, 'othr': 2, 'spoon': 2, 'watchng': 2, 'planet': 2, 'comfey': 2, 'prescrib': 2, 'diff': 3, 'apologet': 2, 'fallen': 2, 'actin': 2, 'spoilt': 2, 'badli': 2, 'anyplac': 2, 'captain': 5, 'sept': 2, 'wheellock': 2, 'strict': 2, 'conduct': 3, 'wnevr': 2, 'fal': 3, 'vth': 3, 'yen': 2, 'madodu': 2, 'nav': 2, 'pretsorginta': 2, 'nammanna': 2, 'pretsovru': 2, 'alwa': 2, 'tomorro': 2, 'hittng': 2, 'reflex': 2, 'beth': 2, 'charli': 2, 'muhommad': 2, 'penni': 2, 'admit': 3, 'kent': 3, 'vale': 3, 'toledo': 2, 'regist': 5, 'inperialmus': 2, 'weirdest': 2, 'leafcutt': 2, 'insect': 2, 'molest': 2, 'plumb': 2, 'remix': 2, 'evil': 2, 'acid': 2, 'lareadi': 2, 'accentur': 2, 'aslamalaikkum': 2, 'tohar': 2, 'beeen': 2, 'muht': 2, 'albi': 2, 'mufti': 2, 'mahfuuz': 2, 'macho': 3, 'interfu': 2, 'sinco': 3, 'paye': 3, 'icicibank': 3, 'urn': 5, 'bewar': 3, 'fraud': 3, 'disclos': 3, 'uv': 2, 'mutat': 2, 'sunscreen': 2, 'essenti': 3, 'theseday': 2, 'apeshit': 2, 'velli': 2, 'dogbreath': 2, 'unni': 2, 'young': 2, 'tip': 2, 'disappoint': 2, 'craziest': 2, 'lark': 2, 'musthu': 3, 'semi': 2, 'watt': 2, 'sindu': 2, 'hcl': 2, 'fresher': 2, 'upto': 2, 'ms': 2, 'suman': 2, 'indyarock': 3, 'dust': 2, 'youphon': 2, 'athom': 2, 'youwanna': 2, 'spotti': 2, 'research': 4, 'provinc': 2, 'sterl': 2, 'investig': 2, 'consent': 2, 'konw': 3, 'waht': 3, 'rael': 3, 'gving': 3, 'yuo': 5, 'exmpel': 3, 'jsut': 3, 'tih': 5, 'evrey': 3, 'splle': 3, 'wrnog': 3, 'sitll': 3, 'ra': 3, 'wihtuot': 3, 'ayn': 3, 'mitsak': 3, 'goodnight': 5, 'malaria': 8, 'handl': 5, 'gastroenter': 3, 'temp': 3, 'reduc': 3, 'kama': 2, 'sutra': 2, 'gua': 2, 'faber': 2, 'victoria': 2, 'achan': 2, 'realiti': 2, 'samu': 2, 'shoulder': 2, 'wallet': 2, 'sopha': 2, 'secondari': 2, 'applic': 3, 'ogunrind': 2, 'star': 3, 'didntgiv': 2, 'bellearli': 2, 'telli': 3, 'brdget': 2, 'jone': 2, 'direct': 3, 'titl': 2, 'dedic': 3, 'valuabl': 3, 'wetherspoon': 2, 'varma': 2, 'membership': 3, 'ee': 3, 'poortiyagi': 2, 'odalebeku': 2, 'hanumanji': 2, 'hanuman': 2, 'bajarangabali': 2, 'maruti': 2, 'pavanaputra': 2, 'sankatmochan': 2, 'ramaduth': 2, 'mahav': 2, 'janarig': 2, 'ivatt': 2, 'kalisidar': 2, 'olag': 2, 'ondu': 2, 'keluviri': 2, 'maretar': 2, 'ind': 2, 'dodda': 2, 'problum': 2, 'nalli': 2, 'siguviri': 2, 'idu': 2, 'matra': 2, 'neglet': 2, 'record': 4, 'agent': 2, 'loos': 4, 'babysit': 3, 'engin': 3, 'burgundi': 2, 'tahan': 3, 'anot': 3, 'korean': 2, 'recept': 2, 'idc': 2, 'habit': 3, 'bari': 2, 'hudgi': 2, 'yorg': 2, 'pataistha': 2, 'ertini': 2, 'huim': 2, 'pure': 2, 'smiley': 2, 'ibm': 2, 'hp': 2, 'zogtoriu': 2, 'stare': 3, 'foward': 2, 'dump': 2, 'heap': 2, 'satan': 2, 'impost': 2, 'destini': 2, 'vitamin': 2, 'hu': 2, 'femal': 3, 'navig': 2, 'guidanc': 2, 'doubt': 3, 'despit': 2, 'braini': 2, 'affidavit': 2, 'twigg': 2, 'courtroom': 2, 'multimedia': 2, 'plum': 2, 'smack': 2, 'mall': 3, 'kaila': 2, 'raviyog': 2, 'peripher': 2, 'bhayandar': 2, 'east': 2, 'sarasota': 3, 'panren': 2, 'paru': 2, 'nanni': 2, 'stomach': 4, 'trauma': 2, 'swear': 2, 'timin': 2, 'cooki': 2, 'jelli': 2, 'aldrin': 2, 'rtm': 2, 'plm': 3, 'regular': 2, 'checkup': 2, 'aka': 3, 'smear': 2, 'nooooooo': 2, 'cabl': 2, 'geoenvironment': 2, 'implic': 2, 'meiv': 2, 'hardli': 3, 'gotani': 2, 'smsing': 2, 'jerk': 2, 'engalnd': 2, 'mia': 2, 'elliot': 2, 'doll': 3, 'patrick': 2, 'swayz': 2, 'finalis': 2, 'fondli': 2, 'bein': 3, 'puzzel': 2, 'locat': 3, 'breakfast': 2, 'hamper': 2, 'superb': 2, 'grate': 2, 'happier': 2, 'asia': 2, 'bottl': 3, 'amus': 2, 'complex': 2, 'freeli': 2, 'tax': 2, 'outrag': 2, 'host': 2, 'base': 2, 'idp': 2, 'linux': 2, 'ilol': 2, 'wuldnt': 2, 'clair': 2, 'honestli': 2, 'promptli': 2, 'burnt': 2, 'warwick': 2, 'tmw': 2, 'havn': 2, 'swim': 3, 'mission': 2, 'cla': 2, 'favorit': 3, 'oyster': 2, 'sashimi': 2, 'rumbl': 2, 'enjoyin': 2, 'yourjob': 2, 'llspeak': 2, 'soonlot': 2, 'edg': 3, 'sth': 2, 'spec': 2, 'px': 2, 'woah': 2, 'rcb': 2, 'battl': 2, 'bang': 2, 'kochi': 2, 'worm': 2, 'witin': 2, 'cocksuck': 2, 'ipad': 3, 'worthless': 2, 'novelti': 2, 'item': 2, 'ummma': 2, 'schedul': 2, 'all': 2, 'mone': 2, 'eppolum': 2, 'pole': 2, 'allalo': 2, 'emigr': 2, 'parkin': 2, 'prof': 3, 'sem': 2, 'enna': 2, 'kalaachutaarama': 2, 'practis': 2, 'curtsey': 2, 'como': 2, 'plaid': 2, 'hilari': 2, 'braindanc': 2, 'ofstuff': 2, 'aphex': 2, 'abel': 2, 'pshew': 2, 'watev': 2, 'built': 2, 'atlast': 3, 'lonlin': 2, 'lotz': 2, 'memori': 3, 'mike': 2, 'hussey': 2, 'technic': 3, 'weirdo': 2, 'unit': 2, 'accent': 2, 'dental': 2, 'nmde': 2, 'judgement': 2, 'drivbi': 2, 'edrunk': 2, 'iff': 2, 'pthi': 2, 'senrd': 2, 'dnot': 2, 'dancc': 2, 'drum': 2, 'basq': 2, 'ihav': 2, 'nhite': 2, 'ro': 2, 'xxxxxxx': 2, 'rajitha': 2, 'ranju': 2, 'el': 2, 'nino': 2, 'convers': 2, 'overemphasis': 2, 'uncount': 2, 'noun': 2, 'afterward': 2, 'dusk': 2, 'puzzl': 2, 'woo': 2, 'hoo': 2, 'dismay': 2, 'annoy': 3, 'lap': 2, 'ultim': 2, 'tor': 2, 'tui': 2, 'achiev': 2, 'korli': 2, 'or': 2, 'stool': 2, 'submit': 2, 'yoyyooo': 2, 'usb': 3, 'tantrum': 2, 'scorabl': 2, 'clash': 2, 'grownup': 2, 'conveni': 2, 'guai': 2, 'chastiti': 2, 'devic': 2, 'beat': 2, 'loung': 2, 'intent': 3, 'jontin': 2, 'pickl': 2, 'parad': 2, 'otsid': 3, 'lack': 2, 'particular': 2, 'dramastorm': 2, 'yummmm': 2, 'thkin': 2, 'parco': 3, 'nb': 3, 'brainless': 2, 'vehicl': 2, 'sariyag': 2, 'madok': 2, 'barolla': 2, 'amrita': 2, 'justbeen': 2, 'overa': 2, 'mush': 2, 'summer': 2, 'oooooh': 2, 'fifti': 2, 'sundayish': 2, 'fade': 2, 'glori': 2, 'ralph': 2, 'walsal': 2, 'terri': 2, 'payasam': 2, 'rinu': 2, 'pandi': 2, 'technolog': 2, 'pool': 3, 'jacuzzi': 2, 'fring': 3, 'woohoo': 2, 'besid': 2, 'bani': 2, 'faglord': 2, 'heehe': 2, 'compass': 2, 'gnun': 2, 'uworld': 2, 'qbank': 2, 'assess': 2, 'diddi': 2, 'toothpast': 2, 'flippin': 2, 'cornwal': 2, 'shite': 2, 'kip': 2, 'sef': 2, 'anji': 2, 'symptom': 2, 'involv': 2, 'impos': 2, 'forgotten': 3, 'prayer': 2, 'inperson': 2, 'flea': 2, 'showr': 2, 'scrappi': 2, 'lone': 3, 'gyno': 2, 'crash': 3, 'seek': 2, 'cedar': 2, 'derp': 2, 'abus': 2, 'proper': 2, 'tongu': 2, 'snowboard': 2, 'amla': 2, 'playin': 2, 'aint': 3, 'complain': 2, 'dub': 2, 'je': 2, 'unnecessarili': 2, 'affection': 2, 'broadband': 2, 'instal': 2, 'ofcours': 2, 'upload': 3, 'payback': 2, 'pattern': 2, 'fiend': 2, 'imped': 2, 'voucher': 2, 'virgin': 2, 'sumf': 2, 'blame': 3, 'squeeeeez': 2, 'frndshp': 2, 'luvd': 2, 'kitti': 2, 'shave': 2, 'paint': 3, 'signin': 2, 'adi': 2, 'entey': 2, 'nattil': 2, 'kittum': 2, 'spiritu': 2, 'supos': 2, 'commerci': 3, 'statu': 2, 'abbey': 2, 'srt': 2, 'scrumptiou': 2, 'object': 2, 'fart': 2, 'adewal': 2, 'egbon': 2, 'dot': 2, 'arngd': 2, 'walkin': 2, 'unfortuntli': 2, 'bite': 4, 'frnt': 2, 'sayin': 2, 'fml': 2, 'grow': 3, 'netflix': 2, 'antelop': 2, 'toplay': 2, 'fieldof': 2, 'selfindepend': 2, 'flower': 2, 'juliana': 2, 'ava': 2, 'goodtim': 2, 'oli': 2, 'melnit': 2, 'ifink': 2, 'everythin': 2, 'greec': 2, 'underdtand': 2, 'uhhhhrmm': 2, 'your': 3, 'chez': 2, 'jule': 2, 'bec': 2, 'cantdo': 2, 'anythingtomorrow': 2, 'mypar': 2, 'aretak': 2, 'outfor': 2, 'katexxx': 2, 'waxsto': 3, 'intrepid': 2, 'duo': 2, 'studyn': 2, 'gautham': 4, 'shell': 2, 'unhappi': 3, 'finn': 2, 'hol': 3, 'hairdress': 2, 'four': 3, 'beforehand': 2, 'sterm': 2, 'resolv': 2, 'gay': 3, 'wtc': 2, 'weiyi': 2, 'mth': 3, 'palm': 2, 'certif': 2, 'publish': 2, 'priya': 2, 'puppi': 2, 'nois': 2, 'multi': 2, 'surrend': 2, 'down': 2, 'fletcher': 2, 'feelin': 2, 'nuther': 3, 'callon': 2, 'fishrman': 2, 'strtd': 2, 'throwin': 2, 'rhythm': 3, 'establish': 2, 'plate': 2, 'leftov': 2, 'soc': 2, 'farm': 2, 'pax': 2, 'main': 2, 'mathew': 2, 'tait': 2, 'anderson': 2, 'allo': 2, 'brave': 2, 'buse': 2, 'triumph': 2, 'jolli': 2, 'unlik': 2, 'patient': 2, 'turkey': 2, 'nowher': 2, 'ikno': 2, 'doesdiscount': 2, 'shitinnit': 2, 'screwd': 2, 'ibuprofen': 2, 'brighten': 2, 'evo': 2, 'justifi': 2, 'manual': 2, 'reset': 2, 'troubleshoot': 2, 'wah': 2, 'swhrt': 2, 'landlin': 2, 'anna': 2, 'nagar': 2, 'sorta': 2, 'blown': 2, 'comfort': 2, 'luxuri': 2, 'sold': 2, 'gram': 2, 'borderlin': 2, 'invent': 2, 'dave': 2, 'getha': 2, 'pisc': 2, 'aquariu': 2, 'breather': 2, 'grant': 2, 'fulfil': 2, 'jenni': 2, 'leann': 2, 'drinkin': 3, 'waaaat': 2, 'lololo': 2, 'state': 2, 'corect': 2, 'spele': 2, 'sarcasm': 2, 'desir': 2, 'liver': 2, 'refil': 2, 'inr': 2, 'keralacircl': 2, 'prepaid': 2, 'kr': 2, 'slurp': 2, 'pear': 2, 'webadr': 2, 'gete': 2, 'luckili': 2, 'harish': 2, 'acnt': 2, 'squat': 2, 'restrict': 2, 'cherish': 3, 'miser': 2, 'massiv': 2, 'gut': 2, 'secur': 2, 'te': 2, 'addi': 2, 'coop': 2, 'axi': 2, 'dancin': 2, 'needa': 2, 'mirror': 2, 'jordan': 2, 'nevr': 2, 'unrecogn': 2, 'somon': 2, 'definitli': 2, 'undrstnd': 2, 'bunch': 2, 'lotto': 2, 'ayo': 2, 'hont': 2, 'factori': 2, 'jot': 2, 'newquay': 2, 'talkin': 2, 'mysteri': 2, 'olav': 2, 'mandara': 2, 'trishul': 2, 'reunion': 2, 'tesco': 2, 'occur': 2, 'happenin': 2, 'ola': 3, 'raja': 2, 'burrito': 2, 'hotmail': 2, 'view': 2, 'cosign': 2, 'bid': 2, 'invest': 2, 'reliant': 2, 'minu': 2, 'paragraph': 2, 'blanket': 2, 'smoothli': 2, 'erutupalam': 2, 'thandiyachu': 2, 'oic': 2, 'phonebook': 2, 'poci': 2, 'rofl': 2, 'flavour': 2, 'arnt': 2, 'xxxxxxxxxxxxxx': 2, 'hasbro': 2, 'august': 2, 'jump': 2, 'hoop': 2, 'wrongli': 2, 'wright': 2, 'univ': 2, 'mari': 2, 'jane': 2, 'financ': 2, 'arti': 2, 'collag': 2, 'tryin': 2, 'adsens': 2, 'emot': 2, 'dsn': 4, 'prayr': 2, 'othrwis': 2, 'hubbi': 2, 'fite': 2, 'mj': 2, 'iknow': 2, 'wellda': 2, 'peril': 2, 'studentfinanci': 2, 'revers': 2, 'mathemat': 2, 'juli': 2, 'okor': 2, 'mojibiola': 2, 'hme': 2, 'nigro': 2, 'weapon': 2, 'resend': 2, 'divorc': 2, 'necklac': 2, 'token': 2, 'specifi': 2, 'domain': 2, 'nusstu': 2, 'shrek': 2, 'le': 2, 'north': 2, 'carolina': 2, 'texa': 2, 'gre': 2, 'retir': 2, 'esaplanad': 2, 'groov': 2, 'jb': 2, 'cutest': 2, 'dileep': 2, 'muchand': 2, 'venugop': 2, 'vijaykanth': 2, 'onbu': 2, 'donyt': 2, 'latelyxxx': 2, 'lo': 2, 'nuerologist': 2, 'cozi': 2, 'adjust': 2, 'cooper': 2, 'bognor': 2, 'splendid': 2, 'vill': 2, 'orc': 2, 'kane': 2, 'shud': 2, 'variou': 2, 'yeovil': 2, 'motor': 2, 'max': 2, 'remb': 2, 'lower': 2, 'hellogorg': 2, 'lst': 2, 'nitw': 2, 'texd': 2, 'hopeu': 2, 'ward': 2, 'jaz': 2}\n"
          ]
        }
      ]
    },
    {
      "cell_type": "code",
      "source": [
        "def helper(content):\n",
        "  words=stemming(content).split(' ')\n",
        "  ham_prob=ham_size/(ham_size+spam_size)\n",
        "  for word in words:\n",
        "    if word in ham:\n",
        "      ham_prob*= ((ham[word])/ham_words)\n",
        "    else:\n",
        "      ham_prob*=1\n",
        "  spam_prob=spam_size/(ham_size+spam_size)\n",
        "  for word in words:\n",
        "    if word in spam:\n",
        "      spam_prob*=((spam[word])/spam_words)\n",
        "    else:\n",
        "      spam_prob*=1\n",
        "\n",
        "  if(ham_prob>spam_prob):\n",
        "    # print(\"ham\",0)\n",
        "    return 1\n",
        "  else:\n",
        "    return 0"
      ],
      "metadata": {
        "id": "SGsIi4kjdh9R"
      },
      "execution_count": 56,
      "outputs": []
    },
    {
      "cell_type": "code",
      "source": [
        "\n",
        "result['val']=result['text'].apply(helper)"
      ],
      "metadata": {
        "id": "XMFgjcIsdmeT"
      },
      "execution_count": 57,
      "outputs": []
    },
    {
      "cell_type": "code",
      "source": [
        "print(result)"
      ],
      "metadata": {
        "colab": {
          "base_uri": "https://localhost:8080/"
        },
        "id": "upMfTE_2dsjX",
        "outputId": "2110fd90-722a-4f04-cf36-7584849e3109"
      },
      "execution_count": 58,
      "outputs": [
        {
          "output_type": "stream",
          "name": "stdout",
          "text": [
            "                                                   text label  val\n",
            "3027                                   got tallent wast     0    0\n",
            "4434  b floppi b snappi happi gay chat servic photo ...     1    0\n",
            "5     freemsg hey darl week word back like fun still...     1    1\n",
            "1806  today voda number end select receiv award matc...     1    1\n",
            "3450  ye outsid like hour call whole famili wake cau...     0    0\n",
            "...                                                 ...   ...  ...\n",
            "3783                dear got train seat mine lower seat     0    0\n",
            "336                          cool come havent wine dine     0    0\n",
            "4356  hellogorg how u fone charg lst nitw wen u texd...     0    0\n",
            "1620  fuck babe miss sooooo much wish sleep bed lone...     0    0\n",
            "3424                                        true easier     0    0\n",
            "\n",
            "[4457 rows x 3 columns]\n"
          ]
        }
      ]
    },
    {
      "cell_type": "code",
      "source": [
        "actual=result['label'].to_numpy()\n",
        "pred=result['val'].to_numpy()\n",
        "print(actual)\n",
        "print(pred)\n",
        "crt=0\n",
        "total=actual.size\n",
        "for i in range(actual.size):\n",
        "  if actual[i] == pred[i]:\n",
        "    crt+=1\n",
        "print((crt/total)*100)"
      ],
      "metadata": {
        "colab": {
          "base_uri": "https://localhost:8080/"
        },
        "id": "k8I6mi6KdvPp",
        "outputId": "e54118e6-c7c7-49ed-b17e-d95b93cc3ea0"
      },
      "execution_count": 59,
      "outputs": [
        {
          "output_type": "stream",
          "name": "stdout",
          "text": [
            "[0 1 1 ... 0 0 0]\n",
            "[0 0 1 ... 0 0 0]\n",
            "85.90980480143594\n"
          ]
        }
      ]
    },
    {
      "cell_type": "code",
      "source": [
        "result2=pd.concat([x_test, y_test], axis=1, join='inner').copy()"
      ],
      "metadata": {
        "id": "YZazLGiFd04r"
      },
      "execution_count": 64,
      "outputs": []
    },
    {
      "cell_type": "code",
      "source": [
        "print(result2)"
      ],
      "metadata": {
        "colab": {
          "base_uri": "https://localhost:8080/"
        },
        "id": "tEpTxK2reD94",
        "outputId": "212448bd-dc0b-40d3-e945-169b4abba4c3"
      },
      "execution_count": 65,
      "outputs": [
        {
          "output_type": "stream",
          "name": "stdout",
          "text": [
            "                                                   text label\n",
            "1590  somewhr someon sure made u god decid perfect t...     0\n",
            "881   see knew give break time woul lead alway want ...     0\n",
            "3551                              lol u still feel sick     0\n",
            "1971                           enjoy ur life good night     0\n",
            "2430                                       txting drive     0\n",
            "...                                                 ...   ...\n",
            "2451  know complain num bettr directli go bsnl offc ...     0\n",
            "5032                    realli good see day dudett miss     0\n",
            "883                                         dude go sup     0\n",
            "4429                       yar lor u noe u use dat rout     0\n",
            "3916  eh ur laptop got stock lei say mon muz come ta...     0\n",
            "\n",
            "[1115 rows x 2 columns]\n"
          ]
        }
      ]
    },
    {
      "cell_type": "code",
      "source": [
        "result2['val']=result2['text'].apply(helper)"
      ],
      "metadata": {
        "id": "vz5-WIFqeFce"
      },
      "execution_count": 66,
      "outputs": []
    },
    {
      "cell_type": "code",
      "source": [
        "actual=result2['label'].to_numpy()\n",
        "pred=result2['val'].to_numpy()\n",
        "print(actual)\n",
        "print(pred)\n",
        "crt=0\n",
        "total=actual.size\n",
        "for i in range(actual.size):\n",
        "  if actual[i] == pred[i]:\n",
        "    crt+=1\n",
        "print((crt/total)*100)"
      ],
      "metadata": {
        "colab": {
          "base_uri": "https://localhost:8080/"
        },
        "id": "i6CmlzqseNVv",
        "outputId": "6044b837-f916-4a3a-f82e-f9f70c1cace7"
      },
      "execution_count": 67,
      "outputs": [
        {
          "output_type": "stream",
          "name": "stdout",
          "text": [
            "[0 0 0 ... 0 0 0]\n",
            "[0 0 0 ... 0 0 0]\n",
            "80.98654708520179\n"
          ]
        }
      ]
    }
  ]
}