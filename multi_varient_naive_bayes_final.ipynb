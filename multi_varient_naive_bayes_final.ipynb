{
  "cells": [
    {
      "cell_type": "code",
      "execution_count": 23,
      "metadata": {
        "colab": {
          "base_uri": "https://localhost:8080/"
        },
        "id": "426B5vbRVYNV",
        "outputId": "d2b43ea9-e78d-44db-b86f-a8f2e93fc36f"
      },
      "outputs": [
        {
          "output_type": "stream",
          "name": "stderr",
          "text": [
            "[nltk_data] Downloading package stopwords to /root/nltk_data...\n",
            "[nltk_data]   Package stopwords is already up-to-date!\n"
          ]
        }
      ],
      "source": [
        "import pandas as pd\n",
        "import numpy as np\n",
        "import matplotlib.pyplot as plt\n",
        "import re\n",
        "from nltk.corpus import stopwords\n",
        "from nltk.stem.porter import PorterStemmer\n",
        "from sklearn.metrics import accuracy_score\n",
        "import nltk\n",
        "nltk.download('stopwords')\n",
        "import math\n",
        "from sklearn.model_selection import train_test_split\n",
        "from sklearn.feature_extraction.text import CountVectorizer\n"
      ]
    },
    {
      "cell_type": "code",
      "execution_count": 24,
      "metadata": {
        "id": "GV625gWQVec9"
      },
      "outputs": [],
      "source": [
        "data=pd.read_csv('/content/spam.csv',encoding=\"ISO-8859-1\")\n",
        "data=pd.DataFrame(data)\n"
      ]
    },
    {
      "cell_type": "code",
      "execution_count": 25,
      "metadata": {
        "id": "oqouuUdFVgQt"
      },
      "outputs": [],
      "source": [
        "port_stem=PorterStemmer()\n",
        "def stemming(content):\n",
        "    stemmed_content = re.sub('[^a-zA-Z]',' ',content)\n",
        "    stemmed_content = stemmed_content.lower()\n",
        "    stemmed_content = stemmed_content.split()\n",
        "    stemmed_content = [port_stem.stem(word) for word in stemmed_content if not word in stopwords.words('english')]\n",
        "    stemmed_content = ' '.join(stemmed_content)\n",
        "    return stemmed_content\n"
      ]
    },
    {
      "cell_type": "code",
      "execution_count": 26,
      "metadata": {
        "colab": {
          "base_uri": "https://localhost:8080/"
        },
        "id": "k6aG80TRVqZW",
        "outputId": "6302a2a4-10de-4919-fb0a-fc5d04951dc5"
      },
      "outputs": [
        {
          "output_type": "execute_result",
          "data": {
            "text/plain": [
              "(5572, 2)"
            ]
          },
          "metadata": {},
          "execution_count": 26
        }
      ],
      "source": [
        "data=data[['v1','v2']].copy()\n",
        "data.rename(columns={'v1':'label','v2':'text'},inplace=True)\n",
        "\n",
        "data.label[data.label == 'ham'] = 0\n",
        "data.label[data.label== 'spam'] = 1\n",
        "data.shape"
      ]
    },
    {
      "cell_type": "code",
      "execution_count": 27,
      "metadata": {
        "colab": {
          "base_uri": "https://localhost:8080/",
          "height": 206
        },
        "id": "bz1nsdTeVrqS",
        "outputId": "f6b947cc-51d6-48ca-c31d-0441ab698c17"
      },
      "outputs": [
        {
          "output_type": "execute_result",
          "data": {
            "text/plain": [
              "  label                                               text\n",
              "0     0  go jurong point crazi avail bugi n great world...\n",
              "1     0                              ok lar joke wif u oni\n",
              "2     1  free entri wkli comp win fa cup final tkt st m...\n",
              "3     0                u dun say earli hor u c alreadi say\n",
              "4     0               nah think goe usf live around though"
            ],
            "text/html": [
              "\n",
              "\n",
              "  <div id=\"df-eea36a68-b76a-47eb-9fed-8e43cd97a95f\">\n",
              "    <div class=\"colab-df-container\">\n",
              "      <div>\n",
              "<style scoped>\n",
              "    .dataframe tbody tr th:only-of-type {\n",
              "        vertical-align: middle;\n",
              "    }\n",
              "\n",
              "    .dataframe tbody tr th {\n",
              "        vertical-align: top;\n",
              "    }\n",
              "\n",
              "    .dataframe thead th {\n",
              "        text-align: right;\n",
              "    }\n",
              "</style>\n",
              "<table border=\"1\" class=\"dataframe\">\n",
              "  <thead>\n",
              "    <tr style=\"text-align: right;\">\n",
              "      <th></th>\n",
              "      <th>label</th>\n",
              "      <th>text</th>\n",
              "    </tr>\n",
              "  </thead>\n",
              "  <tbody>\n",
              "    <tr>\n",
              "      <th>0</th>\n",
              "      <td>0</td>\n",
              "      <td>go jurong point crazi avail bugi n great world...</td>\n",
              "    </tr>\n",
              "    <tr>\n",
              "      <th>1</th>\n",
              "      <td>0</td>\n",
              "      <td>ok lar joke wif u oni</td>\n",
              "    </tr>\n",
              "    <tr>\n",
              "      <th>2</th>\n",
              "      <td>1</td>\n",
              "      <td>free entri wkli comp win fa cup final tkt st m...</td>\n",
              "    </tr>\n",
              "    <tr>\n",
              "      <th>3</th>\n",
              "      <td>0</td>\n",
              "      <td>u dun say earli hor u c alreadi say</td>\n",
              "    </tr>\n",
              "    <tr>\n",
              "      <th>4</th>\n",
              "      <td>0</td>\n",
              "      <td>nah think goe usf live around though</td>\n",
              "    </tr>\n",
              "  </tbody>\n",
              "</table>\n",
              "</div>\n",
              "      <button class=\"colab-df-convert\" onclick=\"convertToInteractive('df-eea36a68-b76a-47eb-9fed-8e43cd97a95f')\"\n",
              "              title=\"Convert this dataframe to an interactive table.\"\n",
              "              style=\"display:none;\">\n",
              "\n",
              "  <svg xmlns=\"http://www.w3.org/2000/svg\" height=\"24px\"viewBox=\"0 0 24 24\"\n",
              "       width=\"24px\">\n",
              "    <path d=\"M0 0h24v24H0V0z\" fill=\"none\"/>\n",
              "    <path d=\"M18.56 5.44l.94 2.06.94-2.06 2.06-.94-2.06-.94-.94-2.06-.94 2.06-2.06.94zm-11 1L8.5 8.5l.94-2.06 2.06-.94-2.06-.94L8.5 2.5l-.94 2.06-2.06.94zm10 10l.94 2.06.94-2.06 2.06-.94-2.06-.94-.94-2.06-.94 2.06-2.06.94z\"/><path d=\"M17.41 7.96l-1.37-1.37c-.4-.4-.92-.59-1.43-.59-.52 0-1.04.2-1.43.59L10.3 9.45l-7.72 7.72c-.78.78-.78 2.05 0 2.83L4 21.41c.39.39.9.59 1.41.59.51 0 1.02-.2 1.41-.59l7.78-7.78 2.81-2.81c.8-.78.8-2.07 0-2.86zM5.41 20L4 18.59l7.72-7.72 1.47 1.35L5.41 20z\"/>\n",
              "  </svg>\n",
              "      </button>\n",
              "\n",
              "\n",
              "\n",
              "    <div id=\"df-e67ed9a0-9477-4774-acad-f04921657118\">\n",
              "      <button class=\"colab-df-quickchart\" onclick=\"quickchart('df-e67ed9a0-9477-4774-acad-f04921657118')\"\n",
              "              title=\"Suggest charts.\"\n",
              "              style=\"display:none;\">\n",
              "\n",
              "<svg xmlns=\"http://www.w3.org/2000/svg\" height=\"24px\"viewBox=\"0 0 24 24\"\n",
              "     width=\"24px\">\n",
              "    <g>\n",
              "        <path d=\"M19 3H5c-1.1 0-2 .9-2 2v14c0 1.1.9 2 2 2h14c1.1 0 2-.9 2-2V5c0-1.1-.9-2-2-2zM9 17H7v-7h2v7zm4 0h-2V7h2v10zm4 0h-2v-4h2v4z\"/>\n",
              "    </g>\n",
              "</svg>\n",
              "      </button>\n",
              "    </div>\n",
              "\n",
              "<style>\n",
              "  .colab-df-quickchart {\n",
              "    background-color: #E8F0FE;\n",
              "    border: none;\n",
              "    border-radius: 50%;\n",
              "    cursor: pointer;\n",
              "    display: none;\n",
              "    fill: #1967D2;\n",
              "    height: 32px;\n",
              "    padding: 0 0 0 0;\n",
              "    width: 32px;\n",
              "  }\n",
              "\n",
              "  .colab-df-quickchart:hover {\n",
              "    background-color: #E2EBFA;\n",
              "    box-shadow: 0px 1px 2px rgba(60, 64, 67, 0.3), 0px 1px 3px 1px rgba(60, 64, 67, 0.15);\n",
              "    fill: #174EA6;\n",
              "  }\n",
              "\n",
              "  [theme=dark] .colab-df-quickchart {\n",
              "    background-color: #3B4455;\n",
              "    fill: #D2E3FC;\n",
              "  }\n",
              "\n",
              "  [theme=dark] .colab-df-quickchart:hover {\n",
              "    background-color: #434B5C;\n",
              "    box-shadow: 0px 1px 3px 1px rgba(0, 0, 0, 0.15);\n",
              "    filter: drop-shadow(0px 1px 2px rgba(0, 0, 0, 0.3));\n",
              "    fill: #FFFFFF;\n",
              "  }\n",
              "</style>\n",
              "\n",
              "    <script>\n",
              "      async function quickchart(key) {\n",
              "        const containerElement = document.querySelector('#' + key);\n",
              "        const charts = await google.colab.kernel.invokeFunction(\n",
              "            'suggestCharts', [key], {});\n",
              "      }\n",
              "    </script>\n",
              "\n",
              "      <script>\n",
              "\n",
              "function displayQuickchartButton(domScope) {\n",
              "  let quickchartButtonEl =\n",
              "    domScope.querySelector('#df-e67ed9a0-9477-4774-acad-f04921657118 button.colab-df-quickchart');\n",
              "  quickchartButtonEl.style.display =\n",
              "    google.colab.kernel.accessAllowed ? 'block' : 'none';\n",
              "}\n",
              "\n",
              "        displayQuickchartButton(document);\n",
              "      </script>\n",
              "      <style>\n",
              "    .colab-df-container {\n",
              "      display:flex;\n",
              "      flex-wrap:wrap;\n",
              "      gap: 12px;\n",
              "    }\n",
              "\n",
              "    .colab-df-convert {\n",
              "      background-color: #E8F0FE;\n",
              "      border: none;\n",
              "      border-radius: 50%;\n",
              "      cursor: pointer;\n",
              "      display: none;\n",
              "      fill: #1967D2;\n",
              "      height: 32px;\n",
              "      padding: 0 0 0 0;\n",
              "      width: 32px;\n",
              "    }\n",
              "\n",
              "    .colab-df-convert:hover {\n",
              "      background-color: #E2EBFA;\n",
              "      box-shadow: 0px 1px 2px rgba(60, 64, 67, 0.3), 0px 1px 3px 1px rgba(60, 64, 67, 0.15);\n",
              "      fill: #174EA6;\n",
              "    }\n",
              "\n",
              "    [theme=dark] .colab-df-convert {\n",
              "      background-color: #3B4455;\n",
              "      fill: #D2E3FC;\n",
              "    }\n",
              "\n",
              "    [theme=dark] .colab-df-convert:hover {\n",
              "      background-color: #434B5C;\n",
              "      box-shadow: 0px 1px 3px 1px rgba(0, 0, 0, 0.15);\n",
              "      filter: drop-shadow(0px 1px 2px rgba(0, 0, 0, 0.3));\n",
              "      fill: #FFFFFF;\n",
              "    }\n",
              "  </style>\n",
              "\n",
              "      <script>\n",
              "        const buttonEl =\n",
              "          document.querySelector('#df-eea36a68-b76a-47eb-9fed-8e43cd97a95f button.colab-df-convert');\n",
              "        buttonEl.style.display =\n",
              "          google.colab.kernel.accessAllowed ? 'block' : 'none';\n",
              "\n",
              "        async function convertToInteractive(key) {\n",
              "          const element = document.querySelector('#df-eea36a68-b76a-47eb-9fed-8e43cd97a95f');\n",
              "          const dataTable =\n",
              "            await google.colab.kernel.invokeFunction('convertToInteractive',\n",
              "                                                     [key], {});\n",
              "          if (!dataTable) return;\n",
              "\n",
              "          const docLinkHtml = 'Like what you see? Visit the ' +\n",
              "            '<a target=\"_blank\" href=https://colab.research.google.com/notebooks/data_table.ipynb>data table notebook</a>'\n",
              "            + ' to learn more about interactive tables.';\n",
              "          element.innerHTML = '';\n",
              "          dataTable['output_type'] = 'display_data';\n",
              "          await google.colab.output.renderOutput(dataTable, element);\n",
              "          const docLink = document.createElement('div');\n",
              "          docLink.innerHTML = docLinkHtml;\n",
              "          element.appendChild(docLink);\n",
              "        }\n",
              "      </script>\n",
              "    </div>\n",
              "  </div>\n"
            ]
          },
          "metadata": {},
          "execution_count": 27
        }
      ],
      "source": [
        "data['text']=data['text'].apply(stemming)\n",
        "data.head()"
      ]
    },
    {
      "cell_type": "code",
      "execution_count": 28,
      "metadata": {
        "id": "uD2ycOx7VwZX"
      },
      "outputs": [],
      "source": [
        "x=data.drop(columns=['label'],axis=1)\n",
        "y=data['label']\n",
        "x_train,x_test,y_train,y_test=train_test_split(x,y,test_size=0.2,random_state=3,stratify=y)"
      ]
    },
    {
      "cell_type": "code",
      "execution_count": 29,
      "metadata": {
        "id": "yH2QbpS1ZTRk"
      },
      "outputs": [],
      "source": [
        "def score1(y,y_):\n",
        "  c=0\n",
        "  for i in range(len(y)):\n",
        "    if(y[i]==y_[i]):\n",
        "      c+=1\n",
        "  return (c/len(y))*100"
      ]
    },
    {
      "cell_type": "code",
      "execution_count": 30,
      "metadata": {
        "id": "oSCeNb2Ezf9K"
      },
      "outputs": [],
      "source": [
        "class BernouliNB:\n",
        "  def __init__(self):\n",
        "    pass\n",
        "  def _prior(self):\n",
        "    self.ham_prob=self.ham_mail/(self.ham_mail+self.spam_mail)\n",
        "    self.spam_prob=self.spam_mail/(self.ham_mail+self.spam_mail)\n",
        "  def feature_extract(self,x,y):\n",
        "    data_train=pd.concat([x, y], axis=1, join='inner')\n",
        "    data_spam=data_train[data_train['label']==1]\n",
        "    data_ham=data_train[data_train['label']==0]\n",
        "    self.spam_mail,_=data_spam.shape\n",
        "    self.ham_mail,_=data_ham.shape\n",
        "    cv=CountVectorizer()\n",
        "    data_ham_cv=cv.fit_transform(data_ham['text'].values)\n",
        "    self.feature_names_ham=cv.get_feature_names_out()\n",
        "    data_spam_cv=cv.fit_transform(data_spam['text'].values)\n",
        "    self.feature_names_spam=cv.get_feature_names_out()\n",
        "\n",
        "  def probability_calc(self,text):\n",
        "    text=text.split()\n",
        "    ham_prob=self.ham_prob\n",
        "    for word in text:\n",
        "      num=1\n",
        "      if word in self.feature_names_ham:\n",
        "        num+=1\n",
        "      den=self.n+2\n",
        "      ham_prob*=(num/den)\n",
        "    spam_prob=self.spam_prob\n",
        "    for word in text:\n",
        "      num=1\n",
        "      if word in self.feature_names_spam:\n",
        "        num+=1\n",
        "      den=self.n+2\n",
        "      spam_prob*=(num/den)\n",
        "\n",
        "    if ham_prob>spam_prob:\n",
        "      return 0\n",
        "    else:\n",
        "      return 1\n",
        "\n",
        "\n",
        "  def fit(self,x,y):\n",
        "    self.x=x\n",
        "    self.y=y\n",
        "    self.feature_extract(x,y)\n",
        "    self.n=len(self.feature_names_spam.shape)+len(self.feature_names_ham.shape)\n",
        "    self._prior()\n",
        "    y_calc=x['text'].apply(self.probability_calc)\n",
        "    print(y.to_numpy())\n",
        "    print(y_calc.to_numpy())\n",
        "    print(score1(y.to_numpy(),y_calc.to_numpy()))\n",
        "\n",
        "  def predict(self,x):\n",
        "    return x['text'].apply(self.probability_calc).to_numpy()\n",
        "  def score(self,x,y):\n",
        "    y_calc=self.predict(x)\n",
        "    return score1(y.to_numpy(),y_calc)\n",
        "\n",
        "\n",
        "\n"
      ]
    },
    {
      "cell_type": "code",
      "execution_count": 31,
      "metadata": {
        "colab": {
          "base_uri": "https://localhost:8080/"
        },
        "id": "madOAE7gu2jy",
        "outputId": "a41d4a1f-04e2-490b-c6de-904ca0bff0d4"
      },
      "outputs": [
        {
          "output_type": "stream",
          "name": "stdout",
          "text": [
            "[0 0 0 ... 0 0 0]\n",
            "[0 0 0 ... 0 0 0]\n",
            "96.43257796724254\n"
          ]
        }
      ],
      "source": [
        "bernouli=BernouliNB()\n",
        "bernouli.fit(x_train,y_train)"
      ]
    },
    {
      "cell_type": "code",
      "execution_count": 32,
      "metadata": {
        "colab": {
          "base_uri": "https://localhost:8080/"
        },
        "id": "6lYx7I_VZqda",
        "outputId": "b3c83554-5708-41da-f8fc-8c46c79d811c"
      },
      "outputs": [
        {
          "output_type": "stream",
          "name": "stdout",
          "text": [
            "93.36322869955157\n"
          ]
        }
      ],
      "source": [
        "y_calc=bernouli.predict(x_test)\n",
        "print(score1(y_test.to_numpy(),y_calc))\n"
      ]
    },
    {
      "cell_type": "code",
      "execution_count": 33,
      "metadata": {
        "id": "SfrKG51gboZZ"
      },
      "outputs": [],
      "source": [
        "def get_score(model,x_train,y_train,x_test,y_test):\n",
        "  model.fit(x_train,y_train)\n",
        "  return model.score(x_test,y_test)\n"
      ]
    },
    {
      "cell_type": "code",
      "execution_count": 34,
      "metadata": {
        "colab": {
          "base_uri": "https://localhost:8080/"
        },
        "id": "8QtLWuoijdA8",
        "outputId": "37a70765-fcf7-45b1-a571-9be8f2a0952e"
      },
      "outputs": [
        {
          "output_type": "stream",
          "name": "stdout",
          "text": [
            "0       go jurong point crazi avail bugi n great world...\n",
            "1                                   ok lar joke wif u oni\n",
            "2       free entri wkli comp win fa cup final tkt st m...\n",
            "3                     u dun say earli hor u c alreadi say\n",
            "4                    nah think goe usf live around though\n",
            "                              ...                        \n",
            "5567    nd time tri contact u u pound prize claim easi...\n",
            "5568                                b go esplanad fr home\n",
            "5569                                    piti mood suggest\n",
            "5570    guy bitch act like interest buy someth els nex...\n",
            "5571                                       rofl true name\n",
            "Name: text, Length: 5572, dtype: object\n"
          ]
        }
      ],
      "source": [
        "print(data.text)"
      ]
    },
    {
      "cell_type": "code",
      "source": [
        "from sklearn.model_selection import KFold\n",
        "\n",
        "\n",
        "\n",
        "\n",
        "\n",
        "X = data['text']\n",
        "y = data['label']\n",
        "\n",
        "\n",
        "fold = KFold(n_splits=10)\n",
        "\n",
        "\n",
        "score = []\n",
        "\n",
        "\n",
        "for train_idx, test_idx in fold.split(X, y):\n",
        "\n",
        "    x_train, x_test = X.iloc[train_idx], X.iloc[test_idx]\n",
        "    y_train, y_test = y.iloc[train_idx], y.iloc[test_idx]\n",
        "\n",
        "\n",
        "    bernouli.fit(pd.DataFrame({'text': x_train}), y_train)\n",
        "    acc_score = bernouli.score(pd.DataFrame({'text': x_test}), y_test)\n",
        "\n",
        "\n",
        "    score.append(acc_score)\n"
      ],
      "metadata": {
        "colab": {
          "base_uri": "https://localhost:8080/"
        },
        "id": "z76vD3tz9iRD",
        "outputId": "6f370ff9-cfca-460a-d2bc-6ad76ebf460e"
      },
      "execution_count": 35,
      "outputs": [
        {
          "output_type": "stream",
          "name": "stdout",
          "text": [
            "[0 0 0 ... 0 0 0]\n",
            "[0 0 0 ... 0 0 0]\n",
            "96.05105704028719\n",
            "[0 0 1 ... 0 0 0]\n",
            "[0 0 1 ... 0 0 0]\n",
            "96.15077782209812\n",
            "[0 0 1 ... 0 0 0]\n",
            "[0 0 1 ... 0 0 0]\n",
            "96.11166500498504\n",
            "[0 0 1 ... 0 0 0]\n",
            "[0 0 1 ... 0 0 0]\n",
            "95.67298105682951\n",
            "[0 0 1 ... 0 0 0]\n",
            "[0 0 1 ... 0 0 0]\n",
            "95.85244267198405\n",
            "[0 0 1 ... 0 0 0]\n",
            "[0 0 1 ... 0 0 0]\n",
            "96.01196410767697\n",
            "[0 0 1 ... 0 0 0]\n",
            "[0 0 1 ... 0 0 0]\n",
            "96.39082751744765\n",
            "[0 0 1 ... 0 0 0]\n",
            "[0 0 1 ... 0 0 0]\n",
            "96.23130608175472\n",
            "[0 0 1 ... 0 0 0]\n",
            "[0 0 1 ... 0 0 0]\n",
            "96.01196410767697\n",
            "[0 0 1 ... 0 0 0]\n",
            "[0 0 1 ... 0 0 0]\n",
            "95.97208374875373\n"
          ]
        }
      ]
    },
    {
      "cell_type": "code",
      "execution_count": 36,
      "metadata": {
        "colab": {
          "base_uri": "https://localhost:8080/"
        },
        "id": "XjNWNOuuiH2h",
        "outputId": "6a0700f3-139c-4d11-c0d3-9529169f782b"
      },
      "outputs": [
        {
          "output_type": "stream",
          "name": "stdout",
          "text": [
            "93.44935425957028\n",
            "92.99820466786356\n"
          ]
        }
      ],
      "source": [
        "print(np.mean(score))\n",
        "print(np.median(score))"
      ]
    },
    {
      "cell_type": "markdown",
      "source": [],
      "metadata": {
        "id": "PRq04Mou-5j_"
      }
    },
    {
      "cell_type": "markdown",
      "source": [],
      "metadata": {
        "id": "nWgqWECO-5ei"
      }
    }
  ],
  "metadata": {
    "colab": {
      "provenance": []
    },
    "kernelspec": {
      "display_name": "Python 3",
      "name": "python3"
    },
    "language_info": {
      "name": "python"
    }
  },
  "nbformat": 4,
  "nbformat_minor": 0
}